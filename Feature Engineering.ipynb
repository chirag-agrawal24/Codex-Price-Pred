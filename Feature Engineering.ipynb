{
 "cells": [
  {
   "cell_type": "code",
   "execution_count": 80,
   "id": "5b8925f3-2413-40bd-b56d-d5a661c3aad7",
   "metadata": {},
   "outputs": [],
   "source": [
    "import pandas as pd"
   ]
  },
  {
   "cell_type": "code",
   "execution_count": 81,
   "id": "53c7ed98-ab9b-42d0-9c3a-b8b55d40c4f2",
   "metadata": {},
   "outputs": [
    {
     "data": {
      "text/html": [
       "<div>\n",
       "<style scoped>\n",
       "    .dataframe tbody tr th:only-of-type {\n",
       "        vertical-align: middle;\n",
       "    }\n",
       "\n",
       "    .dataframe tbody tr th {\n",
       "        vertical-align: top;\n",
       "    }\n",
       "\n",
       "    .dataframe thead th {\n",
       "        text-align: right;\n",
       "    }\n",
       "</style>\n",
       "<table border=\"1\" class=\"dataframe\">\n",
       "  <thead>\n",
       "    <tr style=\"text-align: right;\">\n",
       "      <th></th>\n",
       "      <th>respondent_id</th>\n",
       "      <th>age</th>\n",
       "      <th>gender</th>\n",
       "      <th>zone</th>\n",
       "      <th>occupation</th>\n",
       "      <th>income_levels</th>\n",
       "      <th>consume_frequency(weekly)</th>\n",
       "      <th>current_brand</th>\n",
       "      <th>preferable_consumption_size</th>\n",
       "      <th>awareness_of_other_brands</th>\n",
       "      <th>reasons_for_choosing_brands</th>\n",
       "      <th>flavor_preference</th>\n",
       "      <th>purchase_channel</th>\n",
       "      <th>packaging_preference</th>\n",
       "      <th>health_concerns</th>\n",
       "      <th>typical_consumption_situations</th>\n",
       "      <th>price_range</th>\n",
       "    </tr>\n",
       "  </thead>\n",
       "  <tbody>\n",
       "    <tr>\n",
       "      <th>0</th>\n",
       "      <td>R00001</td>\n",
       "      <td>30</td>\n",
       "      <td>M</td>\n",
       "      <td>Urban</td>\n",
       "      <td>Working Professional</td>\n",
       "      <td>&lt;10L</td>\n",
       "      <td>3-4 times</td>\n",
       "      <td>Newcomer</td>\n",
       "      <td>Medium (500 ml)</td>\n",
       "      <td>0 to 1</td>\n",
       "      <td>Price</td>\n",
       "      <td>Traditional</td>\n",
       "      <td>Online</td>\n",
       "      <td>Simple</td>\n",
       "      <td>Medium (Moderately health-conscious)</td>\n",
       "      <td>Active (eg. Sports, gym)</td>\n",
       "      <td>100-150</td>\n",
       "    </tr>\n",
       "    <tr>\n",
       "      <th>1</th>\n",
       "      <td>R00002</td>\n",
       "      <td>46</td>\n",
       "      <td>F</td>\n",
       "      <td>Metro</td>\n",
       "      <td>Working Professional</td>\n",
       "      <td>&gt; 35L</td>\n",
       "      <td>5-7 times</td>\n",
       "      <td>Established</td>\n",
       "      <td>Medium (500 ml)</td>\n",
       "      <td>2 to 4</td>\n",
       "      <td>Quality</td>\n",
       "      <td>Exotic</td>\n",
       "      <td>Retail Store</td>\n",
       "      <td>Premium</td>\n",
       "      <td>Medium (Moderately health-conscious)</td>\n",
       "      <td>Social (eg. Parties)</td>\n",
       "      <td>200-250</td>\n",
       "    </tr>\n",
       "    <tr>\n",
       "      <th>2</th>\n",
       "      <td>R00003</td>\n",
       "      <td>41</td>\n",
       "      <td>F</td>\n",
       "      <td>Rural</td>\n",
       "      <td>Working Professional</td>\n",
       "      <td>&gt; 35L</td>\n",
       "      <td>3-4 times</td>\n",
       "      <td>Newcomer</td>\n",
       "      <td>Medium (500 ml)</td>\n",
       "      <td>2 to 4</td>\n",
       "      <td>Availability</td>\n",
       "      <td>Traditional</td>\n",
       "      <td>Retail Store</td>\n",
       "      <td>Premium</td>\n",
       "      <td>Medium (Moderately health-conscious)</td>\n",
       "      <td>Active (eg. Sports, gym)</td>\n",
       "      <td>200-250</td>\n",
       "    </tr>\n",
       "    <tr>\n",
       "      <th>3</th>\n",
       "      <td>R00004</td>\n",
       "      <td>33</td>\n",
       "      <td>F</td>\n",
       "      <td>Urban</td>\n",
       "      <td>Working Professional</td>\n",
       "      <td>16L - 25L</td>\n",
       "      <td>5-7 times</td>\n",
       "      <td>Newcomer</td>\n",
       "      <td>Medium (500 ml)</td>\n",
       "      <td>0 to 1</td>\n",
       "      <td>Brand Reputation</td>\n",
       "      <td>Exotic</td>\n",
       "      <td>Online</td>\n",
       "      <td>Eco-Friendly</td>\n",
       "      <td>Low (Not very concerned)</td>\n",
       "      <td>Active (eg. Sports, gym)</td>\n",
       "      <td>150-200</td>\n",
       "    </tr>\n",
       "    <tr>\n",
       "      <th>4</th>\n",
       "      <td>R00005</td>\n",
       "      <td>23</td>\n",
       "      <td>M</td>\n",
       "      <td>Metro</td>\n",
       "      <td>Student</td>\n",
       "      <td>Not Reported</td>\n",
       "      <td>3-4 times</td>\n",
       "      <td>Established</td>\n",
       "      <td>Medium (500 ml)</td>\n",
       "      <td>0 to 1</td>\n",
       "      <td>Availability</td>\n",
       "      <td>Traditional</td>\n",
       "      <td>Online</td>\n",
       "      <td>Premium</td>\n",
       "      <td>Medium (Moderately health-conscious)</td>\n",
       "      <td>Active (eg. Sports, gym)</td>\n",
       "      <td>50-100</td>\n",
       "    </tr>\n",
       "  </tbody>\n",
       "</table>\n",
       "</div>"
      ],
      "text/plain": [
       "  respondent_id  age gender   zone            occupation income_levels  \\\n",
       "0        R00001   30      M  Urban  Working Professional          <10L   \n",
       "1        R00002   46      F  Metro  Working Professional         > 35L   \n",
       "2        R00003   41      F  Rural  Working Professional         > 35L   \n",
       "3        R00004   33      F  Urban  Working Professional     16L - 25L   \n",
       "4        R00005   23      M  Metro               Student  Not Reported   \n",
       "\n",
       "  consume_frequency(weekly) current_brand preferable_consumption_size  \\\n",
       "0                 3-4 times      Newcomer             Medium (500 ml)   \n",
       "1                 5-7 times   Established             Medium (500 ml)   \n",
       "2                 3-4 times      Newcomer             Medium (500 ml)   \n",
       "3                 5-7 times      Newcomer             Medium (500 ml)   \n",
       "4                 3-4 times   Established             Medium (500 ml)   \n",
       "\n",
       "  awareness_of_other_brands reasons_for_choosing_brands flavor_preference  \\\n",
       "0                    0 to 1                       Price       Traditional   \n",
       "1                    2 to 4                     Quality            Exotic   \n",
       "2                    2 to 4                Availability       Traditional   \n",
       "3                    0 to 1            Brand Reputation            Exotic   \n",
       "4                    0 to 1                Availability       Traditional   \n",
       "\n",
       "  purchase_channel packaging_preference                       health_concerns  \\\n",
       "0           Online               Simple  Medium (Moderately health-conscious)   \n",
       "1     Retail Store              Premium  Medium (Moderately health-conscious)   \n",
       "2     Retail Store              Premium  Medium (Moderately health-conscious)   \n",
       "3           Online         Eco-Friendly              Low (Not very concerned)   \n",
       "4           Online              Premium  Medium (Moderately health-conscious)   \n",
       "\n",
       "  typical_consumption_situations price_range  \n",
       "0       Active (eg. Sports, gym)     100-150  \n",
       "1           Social (eg. Parties)     200-250  \n",
       "2       Active (eg. Sports, gym)     200-250  \n",
       "3       Active (eg. Sports, gym)     150-200  \n",
       "4       Active (eg. Sports, gym)      50-100  "
      ]
     },
     "execution_count": 81,
     "metadata": {},
     "output_type": "execute_result"
    }
   ],
   "source": [
    "survey_df=pd.read_csv('cleaned_survey_data.csv')\n",
    "survey_df.head()"
   ]
  },
  {
   "cell_type": "markdown",
   "id": "a2266050-8dae-44a0-8a61-46ba09e3d910",
   "metadata": {},
   "source": [
    "survey_df = survey_df.astype({col: 'category'  if col!='respondent_id' else 'object' for col in survey_df.select_dtypes(include='object').columns})\n"
   ]
  },
  {
   "cell_type": "code",
   "execution_count": 82,
   "id": "09111d5c-b41e-4ef3-9f8a-818605e12e3e",
   "metadata": {},
   "outputs": [
    {
     "data": {
      "text/plain": [
       "respondent_id                     object\n",
       "age                                int64\n",
       "gender                            object\n",
       "zone                              object\n",
       "occupation                        object\n",
       "income_levels                     object\n",
       "consume_frequency(weekly)         object\n",
       "current_brand                     object\n",
       "preferable_consumption_size       object\n",
       "awareness_of_other_brands         object\n",
       "reasons_for_choosing_brands       object\n",
       "flavor_preference                 object\n",
       "purchase_channel                  object\n",
       "packaging_preference              object\n",
       "health_concerns                   object\n",
       "typical_consumption_situations    object\n",
       "price_range                       object\n",
       "dtype: object"
      ]
     },
     "execution_count": 82,
     "metadata": {},
     "output_type": "execute_result"
    }
   ],
   "source": [
    "survey_df.dtypes"
   ]
  },
  {
   "cell_type": "markdown",
   "id": "d2c0708f-cd00-49a7-acc8-8738d92fb0d1",
   "metadata": {},
   "source": [
    "# Step 1: Categorize Age into Age Groups\n",
    " Objective: Create a new column `age_group` by categorizing the existing `age`\n",
    " \n",
    " column into specific age ranges.\n",
    " - Categorize ages into the following groups:\n",
    "     - 18-25\n",
    "     - 26-35\n",
    "     - 36-45\n",
    "     - 46-55\n",
    "     - 56-70\n",
    "     - 70+\n",
    "       \n",
    " - Ensure that each age in the dataset is mapped to one of these age groups.\n",
    " - After that, remove the original `age` column from the dataset."
   ]
  },
  {
   "cell_type": "code",
   "execution_count": 83,
   "id": "8706df50-c47c-4bcf-b943-8c9817e8177b",
   "metadata": {},
   "outputs": [],
   "source": [
    "survey_df_2=survey_df.copy()\n"
   ]
  },
  {
   "cell_type": "markdown",
   "id": "10dd129d-3580-43a4-b940-1eefbc3b69c6",
   "metadata": {},
   "source": [
    "### We can use .apply() also but  i am going with .cut() : Method i find by chatgpt"
   ]
  },
  {
   "cell_type": "code",
   "execution_count": 84,
   "id": "ba074d27-6822-4f1e-aef1-d7b626bfc4f3",
   "metadata": {},
   "outputs": [],
   "source": [
    "# why we write 17??? because in cut(right=True) means right value is included but not left \n",
    "# so if we write 18 then it will not be included in 18-25\n",
    "age_bins = [17, 25, 35, 45, 55, 70, float('inf')]  # Define bins\n",
    "age_labels = ['18-25', '26-35', '36-45', '46-55', '56-70', '70+']  # Define labels\n",
    "\n",
    "survey_df_2['age_group'] = pd.cut(survey_df_2['age'], bins=age_bins, labels=age_labels, right=True)"
   ]
  },
  {
   "cell_type": "code",
   "execution_count": 85,
   "id": "dc783092-9d02-494a-abaf-745a63204525",
   "metadata": {},
   "outputs": [],
   "source": [
    "survey_df_2=survey_df_2.drop('age',axis=1)"
   ]
  },
  {
   "cell_type": "code",
   "execution_count": 86,
   "id": "39ed3558-18da-4338-b019-5316d1ce585d",
   "metadata": {},
   "outputs": [
    {
     "name": "stdout",
     "output_type": "stream",
     "text": [
      "<class 'pandas.core.frame.DataFrame'>\n",
      "RangeIndex: 29991 entries, 0 to 29990\n",
      "Data columns (total 17 columns):\n",
      " #   Column                          Non-Null Count  Dtype   \n",
      "---  ------                          --------------  -----   \n",
      " 0   respondent_id                   29991 non-null  object  \n",
      " 1   gender                          29991 non-null  object  \n",
      " 2   zone                            29991 non-null  object  \n",
      " 3   occupation                      29991 non-null  object  \n",
      " 4   income_levels                   29991 non-null  object  \n",
      " 5   consume_frequency(weekly)       29991 non-null  object  \n",
      " 6   current_brand                   29991 non-null  object  \n",
      " 7   preferable_consumption_size     29991 non-null  object  \n",
      " 8   awareness_of_other_brands       29991 non-null  object  \n",
      " 9   reasons_for_choosing_brands     29991 non-null  object  \n",
      " 10  flavor_preference               29991 non-null  object  \n",
      " 11  purchase_channel                29991 non-null  object  \n",
      " 12  packaging_preference            29991 non-null  object  \n",
      " 13  health_concerns                 29991 non-null  object  \n",
      " 14  typical_consumption_situations  29991 non-null  object  \n",
      " 15  price_range                     29991 non-null  object  \n",
      " 16  age_group                       29991 non-null  category\n",
      "dtypes: category(1), object(16)\n",
      "memory usage: 3.7+ MB\n"
     ]
    }
   ],
   "source": [
    "survey_df_2.info()"
   ]
  },
  {
   "cell_type": "markdown",
   "id": "e22b3063-3ad7-4837-9cfa-67f5ccee3f05",
   "metadata": {},
   "source": [
    "# Step 2: Create `cf_ab_score` (Consume Frequency and Awareness Brand Score)\n",
    " \n",
    " Objective: Create a new column `cf_ab_score` by combining the information from\n",
    " `consume_frequency(weekly)` and `awareness_of_other_brands` columns.\n",
    " - Usethefollowing mappings for consume_frequency(weekly):\n",
    "     - \"0-2 times\" → 1\n",
    "     - \"3-4 times\" → 2\n",
    "     - \"5-7 times\" → 3\n",
    " - Usethefollowing mappings for awareness_of_other_brands:\n",
    "     - \"0to1\" →1\n",
    "     - \"2to4\" →2\n",
    "     - \"above 4\" →3\n",
    " - Calculate cf_ab_score using the following formula:\n",
    "  $$\r\n",
    "\\text{cf\\_ab\\_score} = \\frac{\\text{frequency\\_score}}{\\text{awareness\\_score} + \\text{frequency\\_score}}\r\n",
    "$$\r\n",
    "\n",
    " - Roundthe result to two decimal places"
   ]
  },
  {
   "cell_type": "code",
   "execution_count": 87,
   "id": "67d1fa76-0581-4c34-8d72-4d4d1fd570f4",
   "metadata": {},
   "outputs": [],
   "source": [
    "survey_df_3=survey_df_2.copy()"
   ]
  },
  {
   "cell_type": "code",
   "execution_count": 88,
   "id": "2fa2ed8d-5e1a-4813-9f1c-f2733d7dd4c6",
   "metadata": {},
   "outputs": [
    {
     "data": {
      "text/plain": [
       "array(['3-4 times', '5-7 times', '0-2 times'], dtype=object)"
      ]
     },
     "execution_count": 88,
     "metadata": {},
     "output_type": "execute_result"
    }
   ],
   "source": [
    "survey_df_3['consume_frequency(weekly)'].unique()"
   ]
  },
  {
   "cell_type": "code",
   "execution_count": 89,
   "id": "6d3737d0-cc97-468f-8dd7-6850df1655c9",
   "metadata": {},
   "outputs": [
    {
     "data": {
      "text/plain": [
       "array(['0 to 1', '2 to 4', 'above 4'], dtype=object)"
      ]
     },
     "execution_count": 89,
     "metadata": {},
     "output_type": "execute_result"
    }
   ],
   "source": [
    "survey_df_3['awareness_of_other_brands'].unique()"
   ]
  },
  {
   "cell_type": "code",
   "execution_count": 90,
   "id": "0ec83396-7663-4d73-a184-4a30997d9602",
   "metadata": {},
   "outputs": [],
   "source": [
    "\n",
    "consume_frequency_mapping = {\n",
    "    \"0-2 times\": 1,\n",
    "    \"3-4 times\": 2,\n",
    "    \"5-7 times\": 3\n",
    "}\n",
    "\n",
    "awareness_mapping = {\n",
    "    \"0 to 1\": 1,\n",
    "    \"2 to 4\": 2,\n",
    "    \"above 4\": 3\n",
    "}\n",
    "\n",
    "survey_df_3['frequency_score'] = survey_df_3['consume_frequency(weekly)'].map(consume_frequency_mapping)\n",
    "survey_df_3['awareness_score'] = survey_df_3['awareness_of_other_brands'].map(awareness_mapping)\n",
    "\n",
    "\n"
   ]
  },
  {
   "cell_type": "code",
   "execution_count": 91,
   "id": "abeb029c-f445-43f4-97c7-959e31337648",
   "metadata": {},
   "outputs": [
    {
     "name": "stdout",
     "output_type": "stream",
     "text": [
      "<class 'pandas.core.frame.DataFrame'>\n",
      "RangeIndex: 29991 entries, 0 to 29990\n",
      "Data columns (total 19 columns):\n",
      " #   Column                          Non-Null Count  Dtype   \n",
      "---  ------                          --------------  -----   \n",
      " 0   respondent_id                   29991 non-null  object  \n",
      " 1   gender                          29991 non-null  object  \n",
      " 2   zone                            29991 non-null  object  \n",
      " 3   occupation                      29991 non-null  object  \n",
      " 4   income_levels                   29991 non-null  object  \n",
      " 5   consume_frequency(weekly)       29991 non-null  object  \n",
      " 6   current_brand                   29991 non-null  object  \n",
      " 7   preferable_consumption_size     29991 non-null  object  \n",
      " 8   awareness_of_other_brands       29991 non-null  object  \n",
      " 9   reasons_for_choosing_brands     29991 non-null  object  \n",
      " 10  flavor_preference               29991 non-null  object  \n",
      " 11  purchase_channel                29991 non-null  object  \n",
      " 12  packaging_preference            29991 non-null  object  \n",
      " 13  health_concerns                 29991 non-null  object  \n",
      " 14  typical_consumption_situations  29991 non-null  object  \n",
      " 15  price_range                     29991 non-null  object  \n",
      " 16  age_group                       29991 non-null  category\n",
      " 17  frequency_score                 29991 non-null  int64   \n",
      " 18  awareness_score                 29991 non-null  int64   \n",
      "dtypes: category(1), int64(2), object(16)\n",
      "memory usage: 4.1+ MB\n"
     ]
    }
   ],
   "source": [
    "survey_df_3.info()"
   ]
  },
  {
   "cell_type": "code",
   "execution_count": 92,
   "id": "44c567a4-432c-4c64-b392-1e59ccae72f4",
   "metadata": {},
   "outputs": [],
   "source": [
    "survey_df_3['cf_ab_score'] = survey_df_3['frequency_score'] / (survey_df_3['awareness_score'] + survey_df_3['frequency_score'])\n",
    "\n",
    "survey_df_3['cf_ab_score'] = survey_df_3['cf_ab_score'].round(2)\n",
    "\n",
    "survey_df_3 = survey_df_3.drop(columns=['frequency_score', 'awareness_score'])\n",
    "\n"
   ]
  },
  {
   "cell_type": "code",
   "execution_count": 93,
   "id": "478dd26b-bfe8-42a1-907f-e737fdadcc5b",
   "metadata": {},
   "outputs": [
    {
     "name": "stdout",
     "output_type": "stream",
     "text": [
      "<class 'pandas.core.frame.DataFrame'>\n",
      "RangeIndex: 29991 entries, 0 to 29990\n",
      "Data columns (total 18 columns):\n",
      " #   Column                          Non-Null Count  Dtype   \n",
      "---  ------                          --------------  -----   \n",
      " 0   respondent_id                   29991 non-null  object  \n",
      " 1   gender                          29991 non-null  object  \n",
      " 2   zone                            29991 non-null  object  \n",
      " 3   occupation                      29991 non-null  object  \n",
      " 4   income_levels                   29991 non-null  object  \n",
      " 5   consume_frequency(weekly)       29991 non-null  object  \n",
      " 6   current_brand                   29991 non-null  object  \n",
      " 7   preferable_consumption_size     29991 non-null  object  \n",
      " 8   awareness_of_other_brands       29991 non-null  object  \n",
      " 9   reasons_for_choosing_brands     29991 non-null  object  \n",
      " 10  flavor_preference               29991 non-null  object  \n",
      " 11  purchase_channel                29991 non-null  object  \n",
      " 12  packaging_preference            29991 non-null  object  \n",
      " 13  health_concerns                 29991 non-null  object  \n",
      " 14  typical_consumption_situations  29991 non-null  object  \n",
      " 15  price_range                     29991 non-null  object  \n",
      " 16  age_group                       29991 non-null  category\n",
      " 17  cf_ab_score                     29991 non-null  float64 \n",
      "dtypes: category(1), float64(1), object(16)\n",
      "memory usage: 3.9+ MB\n"
     ]
    }
   ],
   "source": [
    "survey_df_3.info()"
   ]
  },
  {
   "cell_type": "code",
   "execution_count": 116,
   "id": "5f5d1847-0382-41af-bbea-0eac890dc810",
   "metadata": {},
   "outputs": [
    {
     "data": {
      "text/plain": [
       "0.75"
      ]
     },
     "execution_count": 116,
     "metadata": {},
     "output_type": "execute_result"
    }
   ],
   "source": [
    "survey_df_3.cf_ab_score.max()"
   ]
  },
  {
   "cell_type": "markdown",
   "id": "d07e09e0-1ef3-4cac-be73-2bc1951831b6",
   "metadata": {},
   "source": [
    "What is the maximum value in cf_ab_score (Consume Frequency and Awareness Brand Score)?\n",
    "# Ans-1:0.75"
   ]
  },
  {
   "cell_type": "code",
   "execution_count": null,
   "id": "7105d526-0644-470f-9a1e-7959732310ef",
   "metadata": {},
   "outputs": [],
   "source": []
  },
  {
   "cell_type": "markdown",
   "id": "ce9a7e7a-c5a2-46a0-87bf-9220fbf872fe",
   "metadata": {},
   "source": [
    "# Step 3: Create Zone Affluence Score (ZAS)\n",
    " Objective: Calculate the `zas_score` using a combination of the `zone` and\n",
    " `income_levels` columns.\n",
    " - Usethefollowing mappings for the zone column:\n",
    "     - \"Urban\" → 3\n",
    "     - \"Metro\" → 4\n",
    "     - \"Rural\" → 1\n",
    "     - \"Semi-Urban\" → 2\n",
    " - Usethefollowing mappings for the income_levels column:\n",
    "     - \"<10L\" →1\n",
    "     - \"10L- 15L\" →2\n",
    "     - \"16L- 25L\" →3\n",
    "     - \"26L- 35L\" →4\n",
    "     - \">35L\" →5\n",
    "     - \"Not Reported\" → 0\n",
    " - Calculate the zas_score using the following formula:\n",
    "     $$\n",
    "\\text{zas\\_score} = \\text{zone\\_score}*{\\text{income\\_score}}\n",
    "$$"
   ]
  },
  {
   "cell_type": "code",
   "execution_count": 94,
   "id": "eee822af-0100-400a-9dde-7938bd08c8b0",
   "metadata": {},
   "outputs": [],
   "source": [
    "survey_df_4=survey_df_3.copy()"
   ]
  },
  {
   "cell_type": "code",
   "execution_count": 95,
   "id": "1dd42e1f-92e3-4281-a157-a2b824501d66",
   "metadata": {},
   "outputs": [
    {
     "data": {
      "text/plain": [
       "array(['Urban', 'Metro', 'Rural', 'Semi-Urban'], dtype=object)"
      ]
     },
     "execution_count": 95,
     "metadata": {},
     "output_type": "execute_result"
    }
   ],
   "source": [
    "survey_df_4.zone.unique()"
   ]
  },
  {
   "cell_type": "code",
   "execution_count": 96,
   "id": "bd73db1c-1517-4ec9-8140-85a4fb3c2c5c",
   "metadata": {},
   "outputs": [
    {
     "data": {
      "text/plain": [
       "array(['<10L', '> 35L', '16L - 25L', 'Not Reported', '10L - 15L',\n",
       "       '26L - 35L'], dtype=object)"
      ]
     },
     "execution_count": 96,
     "metadata": {},
     "output_type": "execute_result"
    }
   ],
   "source": [
    "survey_df_4.income_levels.unique()"
   ]
  },
  {
   "cell_type": "code",
   "execution_count": 97,
   "id": "4734667c-0193-4932-b2d9-b680ec18b4ea",
   "metadata": {},
   "outputs": [],
   "source": [
    "\n",
    "zone_mapping = {\n",
    "    \"Urban\": 3,\n",
    "    \"Metro\": 4,\n",
    "    \"Rural\": 1,\n",
    "    \"Semi-Urban\": 2\n",
    "}\n",
    "\n",
    "income_mapping = {\n",
    "    \"<10L\": 1,\n",
    "    \"10L - 15L\": 2,\n",
    "    \"16L - 25L\": 3,\n",
    "    \"26L - 35L\": 4,\n",
    "    \"> 35L\": 5,\n",
    "    \"Not Reported\": 0\n",
    "}\n",
    "\n",
    "survey_df_4['zone_score'] = survey_df_4['zone'].map(zone_mapping)\n",
    "survey_df_4['income_score'] = survey_df_4['income_levels'].map(income_mapping)\n",
    "\n",
    "\n"
   ]
  },
  {
   "cell_type": "code",
   "execution_count": 98,
   "id": "92c3b150-f35a-431d-bdb3-c5fffec1c9a9",
   "metadata": {},
   "outputs": [
    {
     "data": {
      "text/plain": [
       "respondent_id                     0\n",
       "gender                            0\n",
       "zone                              0\n",
       "occupation                        0\n",
       "income_levels                     0\n",
       "consume_frequency(weekly)         0\n",
       "current_brand                     0\n",
       "preferable_consumption_size       0\n",
       "awareness_of_other_brands         0\n",
       "reasons_for_choosing_brands       0\n",
       "flavor_preference                 0\n",
       "purchase_channel                  0\n",
       "packaging_preference              0\n",
       "health_concerns                   0\n",
       "typical_consumption_situations    0\n",
       "price_range                       0\n",
       "age_group                         0\n",
       "cf_ab_score                       0\n",
       "zone_score                        0\n",
       "income_score                      0\n",
       "dtype: int64"
      ]
     },
     "execution_count": 98,
     "metadata": {},
     "output_type": "execute_result"
    }
   ],
   "source": [
    "survey_df_4.isnull().sum()"
   ]
  },
  {
   "cell_type": "code",
   "execution_count": 99,
   "id": "7852df6f-f88b-4ee1-b741-fc640d497bab",
   "metadata": {},
   "outputs": [],
   "source": [
    "\n",
    "\n",
    "survey_df_4['zas_score'] = survey_df_4['zone_score'] * survey_df_4['income_score']\n",
    "\n",
    "\n",
    "survey_df_4 = survey_df_4.drop(columns=['zone_score', 'income_score'])"
   ]
  },
  {
   "cell_type": "code",
   "execution_count": 100,
   "id": "8e04a597-1856-42c6-90c9-95392a70b586",
   "metadata": {},
   "outputs": [
    {
     "name": "stdout",
     "output_type": "stream",
     "text": [
      "<class 'pandas.core.frame.DataFrame'>\n",
      "RangeIndex: 29991 entries, 0 to 29990\n",
      "Data columns (total 19 columns):\n",
      " #   Column                          Non-Null Count  Dtype   \n",
      "---  ------                          --------------  -----   \n",
      " 0   respondent_id                   29991 non-null  object  \n",
      " 1   gender                          29991 non-null  object  \n",
      " 2   zone                            29991 non-null  object  \n",
      " 3   occupation                      29991 non-null  object  \n",
      " 4   income_levels                   29991 non-null  object  \n",
      " 5   consume_frequency(weekly)       29991 non-null  object  \n",
      " 6   current_brand                   29991 non-null  object  \n",
      " 7   preferable_consumption_size     29991 non-null  object  \n",
      " 8   awareness_of_other_brands       29991 non-null  object  \n",
      " 9   reasons_for_choosing_brands     29991 non-null  object  \n",
      " 10  flavor_preference               29991 non-null  object  \n",
      " 11  purchase_channel                29991 non-null  object  \n",
      " 12  packaging_preference            29991 non-null  object  \n",
      " 13  health_concerns                 29991 non-null  object  \n",
      " 14  typical_consumption_situations  29991 non-null  object  \n",
      " 15  price_range                     29991 non-null  object  \n",
      " 16  age_group                       29991 non-null  category\n",
      " 17  cf_ab_score                     29991 non-null  float64 \n",
      " 18  zas_score                       29991 non-null  int64   \n",
      "dtypes: category(1), float64(1), int64(1), object(16)\n",
      "memory usage: 4.1+ MB\n"
     ]
    }
   ],
   "source": [
    "survey_df_4.info()"
   ]
  },
  {
   "cell_type": "code",
   "execution_count": 119,
   "id": "3c0ee5b9-c752-4c32-be1f-c98e9b5ae0af",
   "metadata": {},
   "outputs": [
    {
     "data": {
      "text/plain": [
       "(14,)"
      ]
     },
     "execution_count": 119,
     "metadata": {},
     "output_type": "execute_result"
    }
   ],
   "source": [
    "survey_df_4.zas_score.unique().shape"
   ]
  },
  {
   "cell_type": "markdown",
   "id": "7c29643b-7d50-4c2d-90f1-bb85e51ac5c9",
   "metadata": {},
   "source": [
    "How many unique values are present in the Zone Affluence Score (ZAS)?\n",
    "# Ans-2:14"
   ]
  },
  {
   "cell_type": "markdown",
   "id": "8b3633d3-afa5-4ddd-8ce0-5d7d54fe53f1",
   "metadata": {},
   "source": [
    "# Step 4: Brand Switching Indicator (BSI)\n",
    " Objective: Create a binary indicator column `bsi` that identifies if a respondent is\n",
    " likely to switch brands.\n",
    "- Check if the respondent’s current_brand is not \"Established\".\n",
    "- Also check if the reasons_for_choosing_brands are either \"Price\" or\n",
    " \"Quality\".\n",
    "- If both conditions are true, assign a value of 1 to indicate potential for brand\n",
    " switching. Otherwise, assign 0."
   ]
  },
  {
   "cell_type": "code",
   "execution_count": 101,
   "id": "afcd19e6-c74e-431c-bd4c-ca2c0716f18c",
   "metadata": {},
   "outputs": [
    {
     "data": {
      "text/plain": [
       "array(['Price', 'Quality', 'Availability', 'Brand Reputation'],\n",
       "      dtype=object)"
      ]
     },
     "execution_count": 101,
     "metadata": {},
     "output_type": "execute_result"
    }
   ],
   "source": [
    "survey_df_4['reasons_for_choosing_brands'].unique()"
   ]
  },
  {
   "cell_type": "code",
   "execution_count": 102,
   "id": "530384bd-2198-4c41-b518-16240409d471",
   "metadata": {},
   "outputs": [
    {
     "data": {
      "text/plain": [
       "array(['Newcomer', 'Established'], dtype=object)"
      ]
     },
     "execution_count": 102,
     "metadata": {},
     "output_type": "execute_result"
    }
   ],
   "source": [
    "survey_df_4['current_brand'].unique()"
   ]
  },
  {
   "cell_type": "code",
   "execution_count": 103,
   "id": "3aef0571-8e4a-4144-ab9b-147858427af3",
   "metadata": {},
   "outputs": [],
   "source": [
    "survey_df_5=survey_df_4.copy()"
   ]
  },
  {
   "cell_type": "code",
   "execution_count": 104,
   "id": "56688e80-16d0-45ef-950a-8534d3b6bd88",
   "metadata": {},
   "outputs": [],
   "source": [
    "\n",
    "condition1 = survey_df_5['current_brand'] != \"Established\"  # Check if current_brand is not \"Established\"\n",
    "condition2 = survey_df_5['reasons_for_choosing_brands'].isin(['Price', 'Quality'])  # Check if reasons are \"Price\" or \"Quality\"\n",
    "\n",
    "\n",
    "survey_df_5['bsi'] = (condition1 & condition2).astype(int)  # Assign 1 if both conditions are true, else 0\n",
    "\n",
    "\n"
   ]
  },
  {
   "cell_type": "code",
   "execution_count": 105,
   "id": "2b06f749-cc1f-4fa7-bdf5-2c980cc2fa0d",
   "metadata": {},
   "outputs": [
    {
     "data": {
      "text/plain": [
       "0        1\n",
       "1        0\n",
       "2        0\n",
       "3        0\n",
       "4        0\n",
       "        ..\n",
       "29986    0\n",
       "29987    0\n",
       "29988    0\n",
       "29989    0\n",
       "29990    1\n",
       "Name: bsi, Length: 29991, dtype: int32"
      ]
     },
     "execution_count": 105,
     "metadata": {},
     "output_type": "execute_result"
    }
   ],
   "source": [
    "survey_df_5['bsi']"
   ]
  },
  {
   "cell_type": "markdown",
   "id": "5b58ccab-aa75-4089-a481-05a6ff0e4fd6",
   "metadata": {},
   "source": [
    "# Final Cleaning Step:\n",
    " Removing Logical Outliers:\n",
    " - When reviewing the occupation data, we found logical inconsistencies.\n",
    "   \n",
    "For instance, there are students listed in the `56-70` age group, which seems like an\n",
    " incorrect entry.\n",
    " \n",
    " We need to remove such records where the data doesn't make\n",
    " sense logically."
   ]
  },
  {
   "cell_type": "code",
   "execution_count": 106,
   "id": "489d3326-b023-44c3-b362-70ee5324b024",
   "metadata": {},
   "outputs": [
    {
     "data": {
      "text/plain": [
       "['18-25', '26-35', '56-70']\n",
       "Categories (6, object): ['18-25' < '26-35' < '36-45' < '46-55' < '56-70' < '70+']"
      ]
     },
     "execution_count": 106,
     "metadata": {},
     "output_type": "execute_result"
    }
   ],
   "source": [
    "survey_df_5[survey_df_5['occupation']=='Student']['age_group'].unique()"
   ]
  },
  {
   "cell_type": "code",
   "execution_count": 107,
   "id": "8c026c6a-f854-494f-ad12-fe69bdfab342",
   "metadata": {},
   "outputs": [
    {
     "data": {
      "text/plain": [
       "['56-70']\n",
       "Categories (6, object): ['18-25' < '26-35' < '36-45' < '46-55' < '56-70' < '70+']"
      ]
     },
     "execution_count": 107,
     "metadata": {},
     "output_type": "execute_result"
    }
   ],
   "source": [
    "survey_df_5[survey_df_5['occupation']=='Retired']['age_group'].unique()"
   ]
  },
  {
   "cell_type": "code",
   "execution_count": 108,
   "id": "8cf8c40e-31b7-46c2-ac1e-fb1fbdcd999f",
   "metadata": {},
   "outputs": [],
   "source": [
    "# so only handle student 56-70"
   ]
  },
  {
   "cell_type": "code",
   "execution_count": 109,
   "id": "6a31b695-1743-4460-91ec-eb016fe75072",
   "metadata": {},
   "outputs": [
    {
     "data": {
      "text/plain": [
       "(35, 20)"
      ]
     },
     "execution_count": 109,
     "metadata": {},
     "output_type": "execute_result"
    }
   ],
   "source": [
    "survey_df_5[(survey_df_5['occupation']=='Student') & (survey_df_5['age_group']=='56-70')].shape"
   ]
  },
  {
   "cell_type": "code",
   "execution_count": 110,
   "id": "e290da4e-a5f8-4c08-b025-28b08c1ea1ac",
   "metadata": {},
   "outputs": [],
   "source": [
    "# AS only 35 records , lets remove them"
   ]
  },
  {
   "cell_type": "code",
   "execution_count": 111,
   "id": "4c6b9258-1944-4b07-b63e-eff5e3b480dd",
   "metadata": {},
   "outputs": [
    {
     "data": {
      "text/plain": [
       "(29991, 20)"
      ]
     },
     "execution_count": 111,
     "metadata": {},
     "output_type": "execute_result"
    }
   ],
   "source": [
    "survey_df_5.shape"
   ]
  },
  {
   "cell_type": "code",
   "execution_count": 112,
   "id": "bcf9ac33-173f-4226-9586-368a820ad0a4",
   "metadata": {},
   "outputs": [
    {
     "data": {
      "text/plain": [
       "(29956, 20)"
      ]
     },
     "execution_count": 112,
     "metadata": {},
     "output_type": "execute_result"
    }
   ],
   "source": [
    "survey_df_5[((survey_df_5['occupation']!='Student') | (survey_df_5['age_group']!='56-70'))].shape"
   ]
  },
  {
   "cell_type": "code",
   "execution_count": 113,
   "id": "e2a7c428-4191-484f-9378-40579ff776f6",
   "metadata": {},
   "outputs": [],
   "source": [
    "survey_df_6 = survey_df_5[~((survey_df_5['occupation']=='Student') & (survey_df_5['age_group']=='56-70'))]"
   ]
  },
  {
   "cell_type": "code",
   "execution_count": 114,
   "id": "a8a4e157-231e-404d-8189-8ea8f6afea4c",
   "metadata": {},
   "outputs": [
    {
     "data": {
      "text/plain": [
       "(29956, 20)"
      ]
     },
     "execution_count": 114,
     "metadata": {},
     "output_type": "execute_result"
    }
   ],
   "source": [
    "survey_df_6.shape"
   ]
  },
  {
   "cell_type": "markdown",
   "id": "8dad048b-28ac-48a9-b022-eaf39b2ee969",
   "metadata": {},
   "source": [
    "How many rows are present in the dataset after removing logical outliers in the Age Group column?\n",
    "# Ans-3:29956"
   ]
  },
  {
   "cell_type": "code",
   "execution_count": 122,
   "id": "e82214c4-6e76-4b79-a573-ae4beb259e3f",
   "metadata": {},
   "outputs": [
    {
     "data": {
      "text/plain": [
       "(20796, 20)"
      ]
     },
     "execution_count": 122,
     "metadata": {},
     "output_type": "execute_result"
    }
   ],
   "source": [
    "survey_df_6[survey_df_6.bsi==0].shape"
   ]
  },
  {
   "cell_type": "markdown",
   "id": "0eb8a026-1dec-4c4d-b271-8f8f10a8e92a",
   "metadata": {},
   "source": [
    "How many rows contain the Brand Switching Indicator (BSI) with a value of 0 after removing logical outliers?\n",
    "# Ans-4:"
   ]
  },
  {
   "cell_type": "code",
   "execution_count": null,
   "id": "2406a283-8d2f-4937-99b6-65d359482c87",
   "metadata": {},
   "outputs": [],
   "source": []
  },
  {
   "cell_type": "markdown",
   "id": "c6eedef6-ed0e-47e4-bfcb-114fed5bec6a",
   "metadata": {},
   "source": [
    "# Saving file"
   ]
  },
  {
   "cell_type": "code",
   "execution_count": 115,
   "id": "1fa565cd-15b8-4ea6-afba-c980a540b47f",
   "metadata": {},
   "outputs": [],
   "source": [
    "survey_df_6.to_csv('survey_data_feature_engineered.csv',index=False)"
   ]
  },
  {
   "cell_type": "code",
   "execution_count": null,
   "id": "d749ce37-0c13-4b84-aaed-1743d8ca0c98",
   "metadata": {},
   "outputs": [],
   "source": []
  }
 ],
 "metadata": {
  "kernelspec": {
   "display_name": "Python 3 (ipykernel)",
   "language": "python",
   "name": "python3"
  },
  "language_info": {
   "codemirror_mode": {
    "name": "ipython",
    "version": 3
   },
   "file_extension": ".py",
   "mimetype": "text/x-python",
   "name": "python",
   "nbconvert_exporter": "python",
   "pygments_lexer": "ipython3",
   "version": "3.11.8"
  },
  "widgets": {
   "application/vnd.jupyter.widget-state+json": {
    "state": {},
    "version_major": 2,
    "version_minor": 0
   }
  }
 },
 "nbformat": 4,
 "nbformat_minor": 5
}
