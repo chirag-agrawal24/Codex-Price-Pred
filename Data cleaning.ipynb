{
 "cells": [
  {
   "cell_type": "code",
   "execution_count": 78,
   "id": "7f6ec969-cde6-4a6f-9c5f-f3ecd2954c3d",
   "metadata": {},
   "outputs": [],
   "source": [
    "import pandas as pd"
   ]
  },
  {
   "cell_type": "code",
   "execution_count": 79,
   "id": "d9d86fd8-4a03-40b2-8383-3c3a6f428fcf",
   "metadata": {},
   "outputs": [
    {
     "data": {
      "text/html": [
       "<div>\n",
       "<style scoped>\n",
       "    .dataframe tbody tr th:only-of-type {\n",
       "        vertical-align: middle;\n",
       "    }\n",
       "\n",
       "    .dataframe tbody tr th {\n",
       "        vertical-align: top;\n",
       "    }\n",
       "\n",
       "    .dataframe thead th {\n",
       "        text-align: right;\n",
       "    }\n",
       "</style>\n",
       "<table border=\"1\" class=\"dataframe\">\n",
       "  <thead>\n",
       "    <tr style=\"text-align: right;\">\n",
       "      <th></th>\n",
       "      <th>respondent_id</th>\n",
       "      <th>age</th>\n",
       "      <th>gender</th>\n",
       "      <th>zone</th>\n",
       "      <th>occupation</th>\n",
       "      <th>income_levels</th>\n",
       "      <th>consume_frequency(weekly)</th>\n",
       "      <th>current_brand</th>\n",
       "      <th>preferable_consumption_size</th>\n",
       "      <th>awareness_of_other_brands</th>\n",
       "      <th>reasons_for_choosing_brands</th>\n",
       "      <th>flavor_preference</th>\n",
       "      <th>purchase_channel</th>\n",
       "      <th>packaging_preference</th>\n",
       "      <th>health_concerns</th>\n",
       "      <th>typical_consumption_situations</th>\n",
       "      <th>price_range</th>\n",
       "    </tr>\n",
       "  </thead>\n",
       "  <tbody>\n",
       "    <tr>\n",
       "      <th>0</th>\n",
       "      <td>R00001</td>\n",
       "      <td>30</td>\n",
       "      <td>M</td>\n",
       "      <td>Urban</td>\n",
       "      <td>Working Professional</td>\n",
       "      <td>&lt;10L</td>\n",
       "      <td>3-4 times</td>\n",
       "      <td>Newcomer</td>\n",
       "      <td>Medium (500 ml)</td>\n",
       "      <td>0 to 1</td>\n",
       "      <td>Price</td>\n",
       "      <td>Traditional</td>\n",
       "      <td>Online</td>\n",
       "      <td>Simple</td>\n",
       "      <td>Medium (Moderately health-conscious)</td>\n",
       "      <td>Active (eg. Sports, gym)</td>\n",
       "      <td>100-150</td>\n",
       "    </tr>\n",
       "    <tr>\n",
       "      <th>1</th>\n",
       "      <td>R00002</td>\n",
       "      <td>46</td>\n",
       "      <td>F</td>\n",
       "      <td>Metro</td>\n",
       "      <td>Working Professional</td>\n",
       "      <td>&gt; 35L</td>\n",
       "      <td>5-7 times</td>\n",
       "      <td>Established</td>\n",
       "      <td>Medium (500 ml)</td>\n",
       "      <td>2 to 4</td>\n",
       "      <td>Quality</td>\n",
       "      <td>Exotic</td>\n",
       "      <td>Retail Store</td>\n",
       "      <td>Premium</td>\n",
       "      <td>Medium (Moderately health-conscious)</td>\n",
       "      <td>Social (eg. Parties)</td>\n",
       "      <td>200-250</td>\n",
       "    </tr>\n",
       "    <tr>\n",
       "      <th>2</th>\n",
       "      <td>R00003</td>\n",
       "      <td>41</td>\n",
       "      <td>F</td>\n",
       "      <td>Rural</td>\n",
       "      <td>Working Professional</td>\n",
       "      <td>&gt; 35L</td>\n",
       "      <td>3-4 times</td>\n",
       "      <td>Newcomer</td>\n",
       "      <td>Medium (500 ml)</td>\n",
       "      <td>2 to 4</td>\n",
       "      <td>Availability</td>\n",
       "      <td>Traditional</td>\n",
       "      <td>Retail Store</td>\n",
       "      <td>Premium</td>\n",
       "      <td>Medium (Moderately health-conscious)</td>\n",
       "      <td>Active (eg. Sports, gym)</td>\n",
       "      <td>200-250</td>\n",
       "    </tr>\n",
       "    <tr>\n",
       "      <th>3</th>\n",
       "      <td>R00004</td>\n",
       "      <td>33</td>\n",
       "      <td>F</td>\n",
       "      <td>Urban</td>\n",
       "      <td>Working Professional</td>\n",
       "      <td>16L - 25L</td>\n",
       "      <td>5-7 times</td>\n",
       "      <td>Newcomer</td>\n",
       "      <td>Medium (500 ml)</td>\n",
       "      <td>0 to 1</td>\n",
       "      <td>Brand Reputation</td>\n",
       "      <td>Exotic</td>\n",
       "      <td>Online</td>\n",
       "      <td>Eco-Friendly</td>\n",
       "      <td>Low (Not very concerned)</td>\n",
       "      <td>Active (eg. Sports, gym)</td>\n",
       "      <td>150-200</td>\n",
       "    </tr>\n",
       "    <tr>\n",
       "      <th>4</th>\n",
       "      <td>R00005</td>\n",
       "      <td>23</td>\n",
       "      <td>M</td>\n",
       "      <td>Metro</td>\n",
       "      <td>Student</td>\n",
       "      <td>NaN</td>\n",
       "      <td>3-4 times</td>\n",
       "      <td>Established</td>\n",
       "      <td>Medium (500 ml)</td>\n",
       "      <td>0 to 1</td>\n",
       "      <td>Availability</td>\n",
       "      <td>Traditional</td>\n",
       "      <td>Online</td>\n",
       "      <td>Premium</td>\n",
       "      <td>Medium (Moderately health-conscious)</td>\n",
       "      <td>Active (eg. Sports, gym)</td>\n",
       "      <td>50-100</td>\n",
       "    </tr>\n",
       "  </tbody>\n",
       "</table>\n",
       "</div>"
      ],
      "text/plain": [
       "  respondent_id  age gender   zone            occupation income_levels  \\\n",
       "0        R00001   30      M  Urban  Working Professional          <10L   \n",
       "1        R00002   46      F  Metro  Working Professional         > 35L   \n",
       "2        R00003   41      F  Rural  Working Professional         > 35L   \n",
       "3        R00004   33      F  Urban  Working Professional     16L - 25L   \n",
       "4        R00005   23      M  Metro               Student           NaN   \n",
       "\n",
       "  consume_frequency(weekly) current_brand preferable_consumption_size  \\\n",
       "0                 3-4 times      Newcomer             Medium (500 ml)   \n",
       "1                 5-7 times   Established             Medium (500 ml)   \n",
       "2                 3-4 times      Newcomer             Medium (500 ml)   \n",
       "3                 5-7 times      Newcomer             Medium (500 ml)   \n",
       "4                 3-4 times   Established             Medium (500 ml)   \n",
       "\n",
       "  awareness_of_other_brands reasons_for_choosing_brands flavor_preference  \\\n",
       "0                    0 to 1                       Price       Traditional   \n",
       "1                    2 to 4                     Quality            Exotic   \n",
       "2                    2 to 4                Availability       Traditional   \n",
       "3                    0 to 1            Brand Reputation            Exotic   \n",
       "4                    0 to 1                Availability       Traditional   \n",
       "\n",
       "  purchase_channel packaging_preference                       health_concerns  \\\n",
       "0           Online               Simple  Medium (Moderately health-conscious)   \n",
       "1     Retail Store              Premium  Medium (Moderately health-conscious)   \n",
       "2     Retail Store              Premium  Medium (Moderately health-conscious)   \n",
       "3           Online         Eco-Friendly              Low (Not very concerned)   \n",
       "4           Online              Premium  Medium (Moderately health-conscious)   \n",
       "\n",
       "  typical_consumption_situations price_range  \n",
       "0       Active (eg. Sports, gym)     100-150  \n",
       "1           Social (eg. Parties)     200-250  \n",
       "2       Active (eg. Sports, gym)     200-250  \n",
       "3       Active (eg. Sports, gym)     150-200  \n",
       "4       Active (eg. Sports, gym)      50-100  "
      ]
     },
     "execution_count": 79,
     "metadata": {},
     "output_type": "execute_result"
    }
   ],
   "source": [
    "survey_df=pd.read_csv('survey_results.csv')\n",
    "survey_df.head()"
   ]
  },
  {
   "cell_type": "code",
   "execution_count": 80,
   "id": "fde32e76-f520-46eb-b989-f28f1c8e935d",
   "metadata": {},
   "outputs": [
    {
     "data": {
      "text/plain": [
       "respondent_id                        0\n",
       "age                                  0\n",
       "gender                               0\n",
       "zone                                 0\n",
       "occupation                           0\n",
       "income_levels                     8064\n",
       "consume_frequency(weekly)            8\n",
       "current_brand                        0\n",
       "preferable_consumption_size          0\n",
       "awareness_of_other_brands            0\n",
       "reasons_for_choosing_brands          0\n",
       "flavor_preference                    0\n",
       "purchase_channel                    10\n",
       "packaging_preference                 0\n",
       "health_concerns                      0\n",
       "typical_consumption_situations       0\n",
       "price_range                          0\n",
       "dtype: int64"
      ]
     },
     "execution_count": 80,
     "metadata": {},
     "output_type": "execute_result"
    }
   ],
   "source": [
    "survey_df.isnull().sum()"
   ]
  },
  {
   "cell_type": "markdown",
   "id": "eee6fffc-7421-4288-b335-ec95eb0414a5",
   "metadata": {},
   "source": [
    "# Task-1\n",
    "Remove Duplicates:\n",
    "\n",
    "•\tInvestigate if the dataset contains duplicate entries. Consider which columns could help identify duplicates. Think about how duplicate records might affect the outcome of the model and remove them accordingly.\n"
   ]
  },
  {
   "cell_type": "code",
   "execution_count": 81,
   "id": "d7858a86-75e4-48fc-bca0-4884ecdf0687",
   "metadata": {},
   "outputs": [
    {
     "data": {
      "text/plain": [
       "(30010, 17)"
      ]
     },
     "execution_count": 81,
     "metadata": {},
     "output_type": "execute_result"
    }
   ],
   "source": [
    "survey_df.shape"
   ]
  },
  {
   "cell_type": "code",
   "execution_count": 82,
   "id": "250effd7-1201-4d54-97f3-610ea4158b22",
   "metadata": {},
   "outputs": [
    {
     "data": {
      "text/plain": [
       "10"
      ]
     },
     "execution_count": 82,
     "metadata": {},
     "output_type": "execute_result"
    }
   ],
   "source": [
    "#total duplicate records\n",
    "survey_df.duplicated('respondent_id').sum()"
   ]
  },
  {
   "cell_type": "code",
   "execution_count": null,
   "id": "7cd98299-99e7-4bff-acc1-0de452e83495",
   "metadata": {},
   "outputs": [],
   "source": []
  },
  {
   "cell_type": "code",
   "execution_count": 83,
   "id": "578f9e23-f1e6-4c34-952d-39925b360655",
   "metadata": {},
   "outputs": [],
   "source": [
    "survey_df=survey_df.drop_duplicates('respondent_id',)"
   ]
  },
  {
   "cell_type": "code",
   "execution_count": 84,
   "id": "6898a5be-af20-4835-9e7a-345f658d32b3",
   "metadata": {},
   "outputs": [
    {
     "data": {
      "text/plain": [
       "(30000, 17)"
      ]
     },
     "execution_count": 84,
     "metadata": {},
     "output_type": "execute_result"
    }
   ],
   "source": [
    "survey_df.shape"
   ]
  },
  {
   "cell_type": "markdown",
   "id": "2fb369fd-bf2f-45eb-a453-14cadbb722a3",
   "metadata": {},
   "source": [
    "How many duplicate rows are present in the data?\n",
    "# Ans-1:10"
   ]
  },
  {
   "cell_type": "markdown",
   "id": "2cce81ff-ea59-4471-9de9-f8958e59c9c3",
   "metadata": {},
   "source": [
    "# Task-2\n",
    "Outlier Detection in Age:\n",
    "\n",
    "•\tExplore the 'age' column to spot potential outliers. You can use statistical methods or visualizations (e.g., box plots) to help identify these. Reflect on why it's important to handle these outliers. Based on your findings, decide whether to keep, adjust, or remove them.\n"
   ]
  },
  {
   "cell_type": "code",
   "execution_count": 85,
   "id": "177018c6-61d2-465d-ac26-5b0966d92c24",
   "metadata": {},
   "outputs": [
    {
     "data": {
      "text/plain": [
       "count    30000.000000\n",
       "mean        33.048167\n",
       "std         13.438904\n",
       "min         18.000000\n",
       "25%         23.000000\n",
       "50%         31.000000\n",
       "75%         40.000000\n",
       "max        604.000000\n",
       "Name: age, dtype: float64"
      ]
     },
     "execution_count": 85,
     "metadata": {},
     "output_type": "execute_result"
    }
   ],
   "source": [
    "survey_df['age'].describe()"
   ]
  },
  {
   "cell_type": "code",
   "execution_count": 86,
   "id": "e426731d-537b-484e-ba80-fbf8537e52f9",
   "metadata": {},
   "outputs": [],
   "source": [
    "#### min (18) is okay but max(604 is purely outlier)"
   ]
  },
  {
   "cell_type": "code",
   "execution_count": 87,
   "id": "c52ad978-0060-45f7-bf12-7541924a8a34",
   "metadata": {},
   "outputs": [
    {
     "name": "stdout",
     "output_type": "stream",
     "text": [
      "<class 'pandas.core.series.Series'>\n",
      "Index: 30000 entries, 0 to 30009\n",
      "Series name: age\n",
      "Non-Null Count  Dtype\n",
      "--------------  -----\n",
      "30000 non-null  int64\n",
      "dtypes: int64(1)\n",
      "memory usage: 468.8 KB\n"
     ]
    }
   ],
   "source": [
    "survey_df.age.info() # data type is int so no problem"
   ]
  },
  {
   "cell_type": "code",
   "execution_count": 88,
   "id": "48154bc6-5280-47f4-ab27-2cace1bf6d2a",
   "metadata": {},
   "outputs": [],
   "source": [
    "# As outlier will influence mean, we should use IQR for outlier detection"
   ]
  },
  {
   "cell_type": "code",
   "execution_count": 89,
   "id": "3b4df3b4-23ce-4e40-bfca-f10b9954b362",
   "metadata": {},
   "outputs": [
    {
     "name": "stdout",
     "output_type": "stream",
     "text": [
      "Age:\n",
      "Quantile 1: 23\n",
      "Quantile 3: 40\n",
      "IQR: 17\n",
      "Lowest Age in IQR test: -2\n",
      "Highest Age in IQR test: 66\n"
     ]
    }
   ],
   "source": [
    "age_q1=int(survey_df.age.quantile(0.25))\n",
    "age_q3=int(survey_df.age.quantile(0.75))\n",
    "age_IQR=age_q3-age_q1\n",
    "print(\"Age:\")\n",
    "print(\"Quantile 1:\",age_q1)\n",
    "print(\"Quantile 3:\",age_q3)\n",
    "print(\"IQR:\",age_IQR)\n",
    "\n",
    "age_low=round(age_q1-age_IQR*1.5)\n",
    "age_high=round(age_q3+age_IQR*1.5)\n",
    "\n",
    "print(\"Lowest Age in IQR test:\",age_low)\n",
    "print(\"Highest Age in IQR test:\",age_high)\n"
   ]
  },
  {
   "cell_type": "code",
   "execution_count": 90,
   "id": "e0251f11-8a21-4b68-abcc-e8faf3d6a1b3",
   "metadata": {},
   "outputs": [
    {
     "data": {
      "text/html": [
       "<div>\n",
       "<style scoped>\n",
       "    .dataframe tbody tr th:only-of-type {\n",
       "        vertical-align: middle;\n",
       "    }\n",
       "\n",
       "    .dataframe tbody tr th {\n",
       "        vertical-align: top;\n",
       "    }\n",
       "\n",
       "    .dataframe thead th {\n",
       "        text-align: right;\n",
       "    }\n",
       "</style>\n",
       "<table border=\"1\" class=\"dataframe\">\n",
       "  <thead>\n",
       "    <tr style=\"text-align: right;\">\n",
       "      <th></th>\n",
       "      <th>respondent_id</th>\n",
       "      <th>age</th>\n",
       "      <th>gender</th>\n",
       "      <th>zone</th>\n",
       "      <th>occupation</th>\n",
       "      <th>income_levels</th>\n",
       "      <th>consume_frequency(weekly)</th>\n",
       "      <th>current_brand</th>\n",
       "      <th>preferable_consumption_size</th>\n",
       "      <th>awareness_of_other_brands</th>\n",
       "      <th>reasons_for_choosing_brands</th>\n",
       "      <th>flavor_preference</th>\n",
       "      <th>purchase_channel</th>\n",
       "      <th>packaging_preference</th>\n",
       "      <th>health_concerns</th>\n",
       "      <th>typical_consumption_situations</th>\n",
       "      <th>price_range</th>\n",
       "    </tr>\n",
       "  </thead>\n",
       "  <tbody>\n",
       "    <tr>\n",
       "      <th>71</th>\n",
       "      <td>R00072</td>\n",
       "      <td>70</td>\n",
       "      <td>F</td>\n",
       "      <td>Urban</td>\n",
       "      <td>Entrepreneur</td>\n",
       "      <td>&lt;10L</td>\n",
       "      <td>3-4 times</td>\n",
       "      <td>Established</td>\n",
       "      <td>Medium (500 ml)</td>\n",
       "      <td>2 to 4</td>\n",
       "      <td>Availability</td>\n",
       "      <td>Traditional</td>\n",
       "      <td>Retail Store</td>\n",
       "      <td>Premium</td>\n",
       "      <td>Low (Not very concerned)</td>\n",
       "      <td>Casual (eg. At home)</td>\n",
       "      <td>150-200</td>\n",
       "    </tr>\n",
       "    <tr>\n",
       "      <th>117</th>\n",
       "      <td>R00118</td>\n",
       "      <td>68</td>\n",
       "      <td>F</td>\n",
       "      <td>Metro</td>\n",
       "      <td>Retired</td>\n",
       "      <td>10L - 15L</td>\n",
       "      <td>5-7 times</td>\n",
       "      <td>Established</td>\n",
       "      <td>Small (250 ml)</td>\n",
       "      <td>0 to 1</td>\n",
       "      <td>Price</td>\n",
       "      <td>Traditional</td>\n",
       "      <td>Retail Store</td>\n",
       "      <td>Simple</td>\n",
       "      <td>High (Very health-conscious)</td>\n",
       "      <td>Casual (eg. At home)</td>\n",
       "      <td>150-200</td>\n",
       "    </tr>\n",
       "    <tr>\n",
       "      <th>215</th>\n",
       "      <td>R00216</td>\n",
       "      <td>67</td>\n",
       "      <td>M</td>\n",
       "      <td>Metro</td>\n",
       "      <td>Entrepreneur</td>\n",
       "      <td>10L - 15L</td>\n",
       "      <td>5-7 times</td>\n",
       "      <td>Established</td>\n",
       "      <td>Medium (500 ml)</td>\n",
       "      <td>above 4</td>\n",
       "      <td>Availability</td>\n",
       "      <td>Exotic</td>\n",
       "      <td>Retail Store</td>\n",
       "      <td>Simple</td>\n",
       "      <td>Medium (Moderately health-conscious)</td>\n",
       "      <td>Active (eg. Sports, gym)</td>\n",
       "      <td>200-250</td>\n",
       "    </tr>\n",
       "    <tr>\n",
       "      <th>392</th>\n",
       "      <td>R00393</td>\n",
       "      <td>69</td>\n",
       "      <td>F</td>\n",
       "      <td>Semi-Urban</td>\n",
       "      <td>Retired</td>\n",
       "      <td>&lt;10L</td>\n",
       "      <td>5-7 times</td>\n",
       "      <td>Newcomer</td>\n",
       "      <td>Large (1 L)</td>\n",
       "      <td>0 to 1</td>\n",
       "      <td>Availability</td>\n",
       "      <td>Exotic</td>\n",
       "      <td>Online</td>\n",
       "      <td>Simple</td>\n",
       "      <td>High (Very health-conscious)</td>\n",
       "      <td>Casual (eg. At home)</td>\n",
       "      <td>150-200</td>\n",
       "    </tr>\n",
       "    <tr>\n",
       "      <th>591</th>\n",
       "      <td>R00592</td>\n",
       "      <td>69</td>\n",
       "      <td>F</td>\n",
       "      <td>Rural</td>\n",
       "      <td>Entrepreneur</td>\n",
       "      <td>&lt;10L</td>\n",
       "      <td>5-7 times</td>\n",
       "      <td>Established</td>\n",
       "      <td>Small (250 ml)</td>\n",
       "      <td>0 to 1</td>\n",
       "      <td>Availability</td>\n",
       "      <td>Traditional</td>\n",
       "      <td>Retail Store</td>\n",
       "      <td>Premium</td>\n",
       "      <td>High (Very health-conscious)</td>\n",
       "      <td>Active (eg. Sports, gym)</td>\n",
       "      <td>200-250</td>\n",
       "    </tr>\n",
       "    <tr>\n",
       "      <th>...</th>\n",
       "      <td>...</td>\n",
       "      <td>...</td>\n",
       "      <td>...</td>\n",
       "      <td>...</td>\n",
       "      <td>...</td>\n",
       "      <td>...</td>\n",
       "      <td>...</td>\n",
       "      <td>...</td>\n",
       "      <td>...</td>\n",
       "      <td>...</td>\n",
       "      <td>...</td>\n",
       "      <td>...</td>\n",
       "      <td>...</td>\n",
       "      <td>...</td>\n",
       "      <td>...</td>\n",
       "      <td>...</td>\n",
       "      <td>...</td>\n",
       "    </tr>\n",
       "    <tr>\n",
       "      <th>29856</th>\n",
       "      <td>R29847</td>\n",
       "      <td>67</td>\n",
       "      <td>F</td>\n",
       "      <td>Urban</td>\n",
       "      <td>Entrepreneur</td>\n",
       "      <td>&gt; 35L</td>\n",
       "      <td>0-2 times</td>\n",
       "      <td>Established</td>\n",
       "      <td>Small (250 ml)</td>\n",
       "      <td>above 4</td>\n",
       "      <td>Quality</td>\n",
       "      <td>Exotic</td>\n",
       "      <td>Retail Store</td>\n",
       "      <td>Premium</td>\n",
       "      <td>High (Very health-conscious)</td>\n",
       "      <td>Casual (eg. At home)</td>\n",
       "      <td>200-250</td>\n",
       "    </tr>\n",
       "    <tr>\n",
       "      <th>29942</th>\n",
       "      <td>R29933</td>\n",
       "      <td>70</td>\n",
       "      <td>M</td>\n",
       "      <td>Semi-Urban</td>\n",
       "      <td>Retired</td>\n",
       "      <td>16L - 25L</td>\n",
       "      <td>5-7 times</td>\n",
       "      <td>Established</td>\n",
       "      <td>Small (250 ml)</td>\n",
       "      <td>0 to 1</td>\n",
       "      <td>Brand Reputation</td>\n",
       "      <td>Exotic</td>\n",
       "      <td>Online</td>\n",
       "      <td>Simple</td>\n",
       "      <td>Low (Not very concerned)</td>\n",
       "      <td>Casual (eg. At home)</td>\n",
       "      <td>100-150</td>\n",
       "    </tr>\n",
       "    <tr>\n",
       "      <th>29944</th>\n",
       "      <td>R29935</td>\n",
       "      <td>67</td>\n",
       "      <td>M</td>\n",
       "      <td>Urban</td>\n",
       "      <td>Retired</td>\n",
       "      <td>&lt;10L</td>\n",
       "      <td>5-7 times</td>\n",
       "      <td>Newcomer</td>\n",
       "      <td>Large (1 L)</td>\n",
       "      <td>0 to 1</td>\n",
       "      <td>Price</td>\n",
       "      <td>Traditional</td>\n",
       "      <td>Retail Store</td>\n",
       "      <td>Simple</td>\n",
       "      <td>High (Very health-conscious)</td>\n",
       "      <td>Social (eg. Parties)</td>\n",
       "      <td>200-250</td>\n",
       "    </tr>\n",
       "    <tr>\n",
       "      <th>29985</th>\n",
       "      <td>R29976</td>\n",
       "      <td>70</td>\n",
       "      <td>F</td>\n",
       "      <td>Urban</td>\n",
       "      <td>Retired</td>\n",
       "      <td>&lt;10L</td>\n",
       "      <td>3-4 times</td>\n",
       "      <td>Newcomer</td>\n",
       "      <td>Small (250 ml)</td>\n",
       "      <td>0 to 1</td>\n",
       "      <td>Price</td>\n",
       "      <td>Traditional</td>\n",
       "      <td>Retail Store</td>\n",
       "      <td>Simple</td>\n",
       "      <td>High (Very health-conscious)</td>\n",
       "      <td>Casual (eg. At home)</td>\n",
       "      <td>150-200</td>\n",
       "    </tr>\n",
       "    <tr>\n",
       "      <th>30004</th>\n",
       "      <td>R29995</td>\n",
       "      <td>67</td>\n",
       "      <td>M</td>\n",
       "      <td>Semi-Urban</td>\n",
       "      <td>Retired</td>\n",
       "      <td>&lt;10L</td>\n",
       "      <td>5-7 times</td>\n",
       "      <td>Newcomer</td>\n",
       "      <td>Small (250 ml)</td>\n",
       "      <td>2 to 4</td>\n",
       "      <td>Availability</td>\n",
       "      <td>Exotic</td>\n",
       "      <td>Retail Store</td>\n",
       "      <td>Premium</td>\n",
       "      <td>Medium (Moderately health-conscious)</td>\n",
       "      <td>Active (eg. Sports, gym)</td>\n",
       "      <td>150-200</td>\n",
       "    </tr>\n",
       "  </tbody>\n",
       "</table>\n",
       "<p>394 rows × 17 columns</p>\n",
       "</div>"
      ],
      "text/plain": [
       "      respondent_id  age gender        zone    occupation income_levels  \\\n",
       "71           R00072   70      F       Urban  Entrepreneur          <10L   \n",
       "117          R00118   68      F       Metro       Retired     10L - 15L   \n",
       "215          R00216   67      M       Metro  Entrepreneur     10L - 15L   \n",
       "392          R00393   69      F  Semi-Urban       Retired          <10L   \n",
       "591          R00592   69      F       Rural  Entrepreneur          <10L   \n",
       "...             ...  ...    ...         ...           ...           ...   \n",
       "29856        R29847   67      F       Urban  Entrepreneur         > 35L   \n",
       "29942        R29933   70      M  Semi-Urban       Retired     16L - 25L   \n",
       "29944        R29935   67      M       Urban       Retired          <10L   \n",
       "29985        R29976   70      F       Urban       Retired          <10L   \n",
       "30004        R29995   67      M  Semi-Urban       Retired          <10L   \n",
       "\n",
       "      consume_frequency(weekly) current_brand preferable_consumption_size  \\\n",
       "71                    3-4 times   Established             Medium (500 ml)   \n",
       "117                   5-7 times   Established              Small (250 ml)   \n",
       "215                   5-7 times   Established             Medium (500 ml)   \n",
       "392                   5-7 times      Newcomer                 Large (1 L)   \n",
       "591                   5-7 times   Established              Small (250 ml)   \n",
       "...                         ...           ...                         ...   \n",
       "29856                 0-2 times   Established              Small (250 ml)   \n",
       "29942                 5-7 times   Established              Small (250 ml)   \n",
       "29944                 5-7 times      Newcomer                 Large (1 L)   \n",
       "29985                 3-4 times      Newcomer              Small (250 ml)   \n",
       "30004                 5-7 times      Newcomer              Small (250 ml)   \n",
       "\n",
       "      awareness_of_other_brands reasons_for_choosing_brands flavor_preference  \\\n",
       "71                       2 to 4                Availability       Traditional   \n",
       "117                      0 to 1                       Price       Traditional   \n",
       "215                     above 4                Availability            Exotic   \n",
       "392                      0 to 1                Availability            Exotic   \n",
       "591                      0 to 1                Availability       Traditional   \n",
       "...                         ...                         ...               ...   \n",
       "29856                   above 4                     Quality            Exotic   \n",
       "29942                    0 to 1            Brand Reputation            Exotic   \n",
       "29944                    0 to 1                       Price       Traditional   \n",
       "29985                    0 to 1                       Price       Traditional   \n",
       "30004                    2 to 4                Availability            Exotic   \n",
       "\n",
       "      purchase_channel packaging_preference  \\\n",
       "71        Retail Store              Premium   \n",
       "117       Retail Store               Simple   \n",
       "215       Retail Store               Simple   \n",
       "392             Online               Simple   \n",
       "591       Retail Store              Premium   \n",
       "...                ...                  ...   \n",
       "29856     Retail Store              Premium   \n",
       "29942           Online               Simple   \n",
       "29944     Retail Store               Simple   \n",
       "29985     Retail Store               Simple   \n",
       "30004     Retail Store              Premium   \n",
       "\n",
       "                            health_concerns typical_consumption_situations  \\\n",
       "71                 Low (Not very concerned)           Casual (eg. At home)   \n",
       "117            High (Very health-conscious)           Casual (eg. At home)   \n",
       "215    Medium (Moderately health-conscious)       Active (eg. Sports, gym)   \n",
       "392            High (Very health-conscious)           Casual (eg. At home)   \n",
       "591            High (Very health-conscious)       Active (eg. Sports, gym)   \n",
       "...                                     ...                            ...   \n",
       "29856          High (Very health-conscious)           Casual (eg. At home)   \n",
       "29942              Low (Not very concerned)           Casual (eg. At home)   \n",
       "29944          High (Very health-conscious)           Social (eg. Parties)   \n",
       "29985          High (Very health-conscious)           Casual (eg. At home)   \n",
       "30004  Medium (Moderately health-conscious)       Active (eg. Sports, gym)   \n",
       "\n",
       "      price_range  \n",
       "71        150-200  \n",
       "117       150-200  \n",
       "215       200-250  \n",
       "392       150-200  \n",
       "591       200-250  \n",
       "...           ...  \n",
       "29856     200-250  \n",
       "29942     100-150  \n",
       "29944     200-250  \n",
       "29985     150-200  \n",
       "30004     150-200  \n",
       "\n",
       "[394 rows x 17 columns]"
      ]
     },
     "execution_count": 90,
     "metadata": {},
     "output_type": "execute_result"
    }
   ],
   "source": [
    "survey_df[(survey_df.age>66)]"
   ]
  },
  {
   "cell_type": "code",
   "execution_count": 91,
   "id": "a7dc1099-c682-4222-bf22-42d8f96f9268",
   "metadata": {},
   "outputs": [
    {
     "data": {
      "text/html": [
       "<div>\n",
       "<style scoped>\n",
       "    .dataframe tbody tr th:only-of-type {\n",
       "        vertical-align: middle;\n",
       "    }\n",
       "\n",
       "    .dataframe tbody tr th {\n",
       "        vertical-align: top;\n",
       "    }\n",
       "\n",
       "    .dataframe thead th {\n",
       "        text-align: right;\n",
       "    }\n",
       "</style>\n",
       "<table border=\"1\" class=\"dataframe\">\n",
       "  <thead>\n",
       "    <tr style=\"text-align: right;\">\n",
       "      <th></th>\n",
       "      <th>respondent_id</th>\n",
       "      <th>age</th>\n",
       "      <th>gender</th>\n",
       "      <th>zone</th>\n",
       "      <th>occupation</th>\n",
       "      <th>income_levels</th>\n",
       "      <th>consume_frequency(weekly)</th>\n",
       "      <th>current_brand</th>\n",
       "      <th>preferable_consumption_size</th>\n",
       "      <th>awareness_of_other_brands</th>\n",
       "      <th>reasons_for_choosing_brands</th>\n",
       "      <th>flavor_preference</th>\n",
       "      <th>purchase_channel</th>\n",
       "      <th>packaging_preference</th>\n",
       "      <th>health_concerns</th>\n",
       "      <th>typical_consumption_situations</th>\n",
       "      <th>price_range</th>\n",
       "    </tr>\n",
       "  </thead>\n",
       "  <tbody>\n",
       "    <tr>\n",
       "      <th>3099</th>\n",
       "      <td>R03098</td>\n",
       "      <td>453</td>\n",
       "      <td>M</td>\n",
       "      <td>Metro</td>\n",
       "      <td>Working Professional</td>\n",
       "      <td>26L - 35L</td>\n",
       "      <td>3-4 times</td>\n",
       "      <td>Established</td>\n",
       "      <td>Medium (500 ml)</td>\n",
       "      <td>2 to 4</td>\n",
       "      <td>Brand Reputation</td>\n",
       "      <td>Traditional</td>\n",
       "      <td>Retail Store</td>\n",
       "      <td>Premium</td>\n",
       "      <td>Medium (Moderately health-conscious)</td>\n",
       "      <td>Social (eg. Parties)</td>\n",
       "      <td>200-250</td>\n",
       "    </tr>\n",
       "    <tr>\n",
       "      <th>6262</th>\n",
       "      <td>R06260</td>\n",
       "      <td>428</td>\n",
       "      <td>M</td>\n",
       "      <td>Urban</td>\n",
       "      <td>Entrepreneur</td>\n",
       "      <td>16L - 25L</td>\n",
       "      <td>5-7 times</td>\n",
       "      <td>Established</td>\n",
       "      <td>Large (1 L)</td>\n",
       "      <td>above 4</td>\n",
       "      <td>Quality</td>\n",
       "      <td>Exotic</td>\n",
       "      <td>Online</td>\n",
       "      <td>Simple</td>\n",
       "      <td>High (Very health-conscious)</td>\n",
       "      <td>Social (eg. Parties)</td>\n",
       "      <td>200-250</td>\n",
       "    </tr>\n",
       "    <tr>\n",
       "      <th>12403</th>\n",
       "      <td>R12398</td>\n",
       "      <td>604</td>\n",
       "      <td>M</td>\n",
       "      <td>Metro</td>\n",
       "      <td>Retired</td>\n",
       "      <td>&lt;10L</td>\n",
       "      <td>0-2 times</td>\n",
       "      <td>Newcomer</td>\n",
       "      <td>Small (250 ml)</td>\n",
       "      <td>2 to 4</td>\n",
       "      <td>Availability</td>\n",
       "      <td>Traditional</td>\n",
       "      <td>Online</td>\n",
       "      <td>Simple</td>\n",
       "      <td>Medium (Moderately health-conscious)</td>\n",
       "      <td>Casual (eg. At home)</td>\n",
       "      <td>100-150</td>\n",
       "    </tr>\n",
       "    <tr>\n",
       "      <th>22549</th>\n",
       "      <td>R22542</td>\n",
       "      <td>457</td>\n",
       "      <td>M</td>\n",
       "      <td>Metro</td>\n",
       "      <td>Working Professional</td>\n",
       "      <td>16L - 25L</td>\n",
       "      <td>3-4 times</td>\n",
       "      <td>Newcomer</td>\n",
       "      <td>Small (250 ml)</td>\n",
       "      <td>2 to 4</td>\n",
       "      <td>Price</td>\n",
       "      <td>Traditional</td>\n",
       "      <td>Online</td>\n",
       "      <td>Premium</td>\n",
       "      <td>High (Very health-conscious)</td>\n",
       "      <td>Casual (eg. At home)</td>\n",
       "      <td>200-250</td>\n",
       "    </tr>\n",
       "    <tr>\n",
       "      <th>22918</th>\n",
       "      <td>R22911</td>\n",
       "      <td>267</td>\n",
       "      <td>F</td>\n",
       "      <td>Metro</td>\n",
       "      <td>Working Professional</td>\n",
       "      <td>16L - 25L</td>\n",
       "      <td>3-4 times</td>\n",
       "      <td>Established</td>\n",
       "      <td>Medium (500 ml)</td>\n",
       "      <td>above 4</td>\n",
       "      <td>Brand Reputation</td>\n",
       "      <td>Exotic</td>\n",
       "      <td>Online</td>\n",
       "      <td>Eco-Friendly</td>\n",
       "      <td>Low (Not very concerned)</td>\n",
       "      <td>Active (eg. Sports, gym)</td>\n",
       "      <td>150-200</td>\n",
       "    </tr>\n",
       "    <tr>\n",
       "      <th>24958</th>\n",
       "      <td>R24950</td>\n",
       "      <td>285</td>\n",
       "      <td>M</td>\n",
       "      <td>Semi-Urban</td>\n",
       "      <td>Working Professional</td>\n",
       "      <td>&gt; 35L</td>\n",
       "      <td>0-2 times</td>\n",
       "      <td>Newcomer</td>\n",
       "      <td>Small (250 ml)</td>\n",
       "      <td>2 to 4</td>\n",
       "      <td>Price</td>\n",
       "      <td>Traditional</td>\n",
       "      <td>Online</td>\n",
       "      <td>Simple</td>\n",
       "      <td>Medium (Moderately health-conscious)</td>\n",
       "      <td>Active (eg. Sports, gym)</td>\n",
       "      <td>150-200</td>\n",
       "    </tr>\n",
       "    <tr>\n",
       "      <th>24960</th>\n",
       "      <td>R24952</td>\n",
       "      <td>192</td>\n",
       "      <td>F</td>\n",
       "      <td>Urban</td>\n",
       "      <td>Student</td>\n",
       "      <td>NaN</td>\n",
       "      <td>3-4 times</td>\n",
       "      <td>Newcomer</td>\n",
       "      <td>Medium (500 ml)</td>\n",
       "      <td>0 to 1</td>\n",
       "      <td>Price</td>\n",
       "      <td>Traditional</td>\n",
       "      <td>Online</td>\n",
       "      <td>Simple</td>\n",
       "      <td>Low (Not very concerned)</td>\n",
       "      <td>Active (eg. Sports, gym)</td>\n",
       "      <td>50-100</td>\n",
       "    </tr>\n",
       "    <tr>\n",
       "      <th>25105</th>\n",
       "      <td>R25096</td>\n",
       "      <td>203</td>\n",
       "      <td>M</td>\n",
       "      <td>Metro</td>\n",
       "      <td>Working Professional</td>\n",
       "      <td>16L - 25L</td>\n",
       "      <td>0-2 times</td>\n",
       "      <td>Established</td>\n",
       "      <td>Small (250 ml)</td>\n",
       "      <td>2 to 4</td>\n",
       "      <td>Brand Reputation</td>\n",
       "      <td>Exotic</td>\n",
       "      <td>Retail Store</td>\n",
       "      <td>Premium</td>\n",
       "      <td>High (Very health-conscious)</td>\n",
       "      <td>Active (eg. Sports, gym)</td>\n",
       "      <td>150-200</td>\n",
       "    </tr>\n",
       "    <tr>\n",
       "      <th>28770</th>\n",
       "      <td>R28761</td>\n",
       "      <td>428</td>\n",
       "      <td>F</td>\n",
       "      <td>Rural</td>\n",
       "      <td>Working Professional</td>\n",
       "      <td>26L - 35L</td>\n",
       "      <td>0-2 times</td>\n",
       "      <td>Established</td>\n",
       "      <td>Small (250 ml)</td>\n",
       "      <td>2 to 4</td>\n",
       "      <td>Brand Reputation</td>\n",
       "      <td>Exotic</td>\n",
       "      <td>Online</td>\n",
       "      <td>Simple</td>\n",
       "      <td>Medium (Moderately health-conscious)</td>\n",
       "      <td>Casual (eg. At home)</td>\n",
       "      <td>150-200</td>\n",
       "    </tr>\n",
       "  </tbody>\n",
       "</table>\n",
       "</div>"
      ],
      "text/plain": [
       "      respondent_id  age gender        zone            occupation  \\\n",
       "3099         R03098  453      M       Metro  Working Professional   \n",
       "6262         R06260  428      M       Urban          Entrepreneur   \n",
       "12403        R12398  604      M       Metro               Retired   \n",
       "22549        R22542  457      M       Metro  Working Professional   \n",
       "22918        R22911  267      F       Metro  Working Professional   \n",
       "24958        R24950  285      M  Semi-Urban  Working Professional   \n",
       "24960        R24952  192      F       Urban               Student   \n",
       "25105        R25096  203      M       Metro  Working Professional   \n",
       "28770        R28761  428      F       Rural  Working Professional   \n",
       "\n",
       "      income_levels consume_frequency(weekly) current_brand  \\\n",
       "3099      26L - 35L                 3-4 times   Established   \n",
       "6262      16L - 25L                 5-7 times   Established   \n",
       "12403          <10L                 0-2 times      Newcomer   \n",
       "22549     16L - 25L                 3-4 times      Newcomer   \n",
       "22918     16L - 25L                 3-4 times   Established   \n",
       "24958         > 35L                 0-2 times      Newcomer   \n",
       "24960           NaN                 3-4 times      Newcomer   \n",
       "25105     16L - 25L                 0-2 times   Established   \n",
       "28770     26L - 35L                 0-2 times   Established   \n",
       "\n",
       "      preferable_consumption_size awareness_of_other_brands  \\\n",
       "3099              Medium (500 ml)                    2 to 4   \n",
       "6262                  Large (1 L)                   above 4   \n",
       "12403              Small (250 ml)                    2 to 4   \n",
       "22549              Small (250 ml)                    2 to 4   \n",
       "22918             Medium (500 ml)                   above 4   \n",
       "24958              Small (250 ml)                    2 to 4   \n",
       "24960             Medium (500 ml)                    0 to 1   \n",
       "25105              Small (250 ml)                    2 to 4   \n",
       "28770              Small (250 ml)                    2 to 4   \n",
       "\n",
       "      reasons_for_choosing_brands flavor_preference purchase_channel  \\\n",
       "3099             Brand Reputation       Traditional     Retail Store   \n",
       "6262                      Quality            Exotic           Online   \n",
       "12403                Availability       Traditional           Online   \n",
       "22549                       Price       Traditional           Online   \n",
       "22918            Brand Reputation            Exotic           Online   \n",
       "24958                       Price       Traditional           Online   \n",
       "24960                       Price       Traditional           Online   \n",
       "25105            Brand Reputation            Exotic     Retail Store   \n",
       "28770            Brand Reputation            Exotic           Online   \n",
       "\n",
       "      packaging_preference                       health_concerns  \\\n",
       "3099               Premium  Medium (Moderately health-conscious)   \n",
       "6262                Simple          High (Very health-conscious)   \n",
       "12403               Simple  Medium (Moderately health-conscious)   \n",
       "22549              Premium          High (Very health-conscious)   \n",
       "22918         Eco-Friendly              Low (Not very concerned)   \n",
       "24958               Simple  Medium (Moderately health-conscious)   \n",
       "24960               Simple              Low (Not very concerned)   \n",
       "25105              Premium          High (Very health-conscious)   \n",
       "28770               Simple  Medium (Moderately health-conscious)   \n",
       "\n",
       "      typical_consumption_situations price_range  \n",
       "3099            Social (eg. Parties)     200-250  \n",
       "6262            Social (eg. Parties)     200-250  \n",
       "12403           Casual (eg. At home)     100-150  \n",
       "22549           Casual (eg. At home)     200-250  \n",
       "22918       Active (eg. Sports, gym)     150-200  \n",
       "24958       Active (eg. Sports, gym)     150-200  \n",
       "24960       Active (eg. Sports, gym)      50-100  \n",
       "25105       Active (eg. Sports, gym)     150-200  \n",
       "28770           Casual (eg. At home)     150-200  "
      ]
     },
     "execution_count": 91,
     "metadata": {},
     "output_type": "execute_result"
    }
   ],
   "source": [
    "# I prefer to remove data that are greater 70 age (as they are very less in number)\n",
    "survey_df[(survey_df.age>70)]"
   ]
  },
  {
   "cell_type": "markdown",
   "id": "ad0a830b-10f5-421b-a6a9-96597df7d152",
   "metadata": {},
   "source": [
    "#### I am removing record with age>70 but not removing age<=70 evenif IQR test give value 66 (because data can be useful) "
   ]
  },
  {
   "cell_type": "code",
   "execution_count": 92,
   "id": "1c5b9676-2dd8-47f9-8c45-51b55debd5e1",
   "metadata": {},
   "outputs": [],
   "source": [
    "survey_df_2=survey_df[survey_df.age<=70]"
   ]
  },
  {
   "cell_type": "code",
   "execution_count": 93,
   "id": "affb12c7-c802-4dd7-9f03-1ea544cf67b0",
   "metadata": {},
   "outputs": [
    {
     "data": {
      "text/plain": [
       "(29991, 17)"
      ]
     },
     "execution_count": 93,
     "metadata": {},
     "output_type": "execute_result"
    }
   ],
   "source": [
    "survey_df_2.shape"
   ]
  },
  {
   "cell_type": "markdown",
   "id": "7531e30f-30ba-46d8-9ec3-7b260aa69925",
   "metadata": {},
   "source": [
    "### Others column outlier checking just by common sense\n"
   ]
  },
  {
   "cell_type": "code",
   "execution_count": null,
   "id": "757d9daa-fa2b-4e72-a0b7-2985db9e5098",
   "metadata": {},
   "outputs": [],
   "source": []
  },
  {
   "cell_type": "code",
   "execution_count": 94,
   "id": "6ebf48be-5cbd-4fd5-840e-e468d1e35a5d",
   "metadata": {
    "scrolled": true
   },
   "outputs": [
    {
     "data": {
      "text/html": [
       "<div>\n",
       "<style scoped>\n",
       "    .dataframe tbody tr th:only-of-type {\n",
       "        vertical-align: middle;\n",
       "    }\n",
       "\n",
       "    .dataframe tbody tr th {\n",
       "        vertical-align: top;\n",
       "    }\n",
       "\n",
       "    .dataframe thead th {\n",
       "        text-align: right;\n",
       "    }\n",
       "</style>\n",
       "<table border=\"1\" class=\"dataframe\">\n",
       "  <thead>\n",
       "    <tr style=\"text-align: right;\">\n",
       "      <th></th>\n",
       "      <th>age</th>\n",
       "    </tr>\n",
       "  </thead>\n",
       "  <tbody>\n",
       "    <tr>\n",
       "      <th>count</th>\n",
       "      <td>29991.000000</td>\n",
       "    </tr>\n",
       "    <tr>\n",
       "      <th>mean</th>\n",
       "      <td>32.947484</td>\n",
       "    </tr>\n",
       "    <tr>\n",
       "      <th>std</th>\n",
       "      <td>11.906077</td>\n",
       "    </tr>\n",
       "    <tr>\n",
       "      <th>min</th>\n",
       "      <td>18.000000</td>\n",
       "    </tr>\n",
       "    <tr>\n",
       "      <th>25%</th>\n",
       "      <td>23.000000</td>\n",
       "    </tr>\n",
       "    <tr>\n",
       "      <th>50%</th>\n",
       "      <td>31.000000</td>\n",
       "    </tr>\n",
       "    <tr>\n",
       "      <th>75%</th>\n",
       "      <td>40.000000</td>\n",
       "    </tr>\n",
       "    <tr>\n",
       "      <th>max</th>\n",
       "      <td>70.000000</td>\n",
       "    </tr>\n",
       "  </tbody>\n",
       "</table>\n",
       "</div>"
      ],
      "text/plain": [
       "                age\n",
       "count  29991.000000\n",
       "mean      32.947484\n",
       "std       11.906077\n",
       "min       18.000000\n",
       "25%       23.000000\n",
       "50%       31.000000\n",
       "75%       40.000000\n",
       "max       70.000000"
      ]
     },
     "execution_count": 94,
     "metadata": {},
     "output_type": "execute_result"
    }
   ],
   "source": [
    "survey_df_2.describe()"
   ]
  },
  {
   "cell_type": "markdown",
   "id": "1a79d564-3c9e-447d-b599-e2c53e6fced9",
   "metadata": {},
   "source": [
    "##### No other column is numerical"
   ]
  },
  {
   "cell_type": "markdown",
   "id": "bc914a19-3c73-4bce-976c-3bb183cc6712",
   "metadata": {},
   "source": [
    "What is the maximum outlier value in the age column?\n",
    "# Ans-2:604"
   ]
  },
  {
   "cell_type": "markdown",
   "id": "e7437376-49d0-4a04-8642-58af4b6cd710",
   "metadata": {},
   "source": [
    "# Task-3\n",
    "Handling Missing Data:\n",
    "\n",
    "•\tFor the 'income_levels' column, missing values can be problematic. What would be a reasonable way to replace them? (Hint: Consider using \"Not Reported\" for missing income levels)\n",
    "\n",
    "•\tFor the   and 'purchase_channel' columns, think about the best way to fill missing values. Could the most common (mode) values be an appropriate replacement? Investigate the distributions before making a decision.\n"
   ]
  },
  {
   "cell_type": "code",
   "execution_count": 95,
   "id": "d4681700-8591-45e3-91ad-83038a3d60cc",
   "metadata": {},
   "outputs": [
    {
     "data": {
      "text/plain": [
       "respondent_id                        0\n",
       "age                                  0\n",
       "gender                               0\n",
       "zone                                 0\n",
       "occupation                           0\n",
       "income_levels                     8060\n",
       "consume_frequency(weekly)            8\n",
       "current_brand                        0\n",
       "preferable_consumption_size          0\n",
       "awareness_of_other_brands            0\n",
       "reasons_for_choosing_brands          0\n",
       "flavor_preference                    0\n",
       "purchase_channel                    10\n",
       "packaging_preference                 0\n",
       "health_concerns                      0\n",
       "typical_consumption_situations       0\n",
       "price_range                          0\n",
       "dtype: int64"
      ]
     },
     "execution_count": 95,
     "metadata": {},
     "output_type": "execute_result"
    }
   ],
   "source": [
    "survey_df_2.isnull().sum()"
   ]
  },
  {
   "cell_type": "code",
   "execution_count": 96,
   "id": "25bd641d-fc64-45b1-950c-00712842af9f",
   "metadata": {},
   "outputs": [],
   "source": [
    "survey_df_3=survey_df_2.copy()"
   ]
  },
  {
   "cell_type": "markdown",
   "id": "438a3597-4b69-4c28-8edf-5e334604875f",
   "metadata": {},
   "source": [
    "## Income level"
   ]
  },
  {
   "cell_type": "code",
   "execution_count": 97,
   "id": "188035f9-6c9a-4731-9836-f513cf8006e4",
   "metadata": {},
   "outputs": [],
   "source": [
    "survey_df_3.income_levels=survey_df_3.income_levels.fillna('Not Reported')"
   ]
  },
  {
   "cell_type": "code",
   "execution_count": 98,
   "id": "4fc70223-7377-465b-a70b-6a172e4eeee6",
   "metadata": {},
   "outputs": [
    {
     "data": {
      "text/plain": [
       "income_levels\n",
       "Not Reported    8060\n",
       "16L - 25L       5897\n",
       "10L - 15L       5251\n",
       "<10L            4661\n",
       "26L - 35L       3872\n",
       "> 35L           2250\n",
       "Name: count, dtype: int64"
      ]
     },
     "execution_count": 98,
     "metadata": {},
     "output_type": "execute_result"
    }
   ],
   "source": [
    "survey_df_3.income_levels.value_counts()"
   ]
  },
  {
   "cell_type": "markdown",
   "id": "367dc554-a60f-4963-a7c8-97acded83057",
   "metadata": {},
   "source": [
    "### A question: Will it be usefull for model\n",
    "#### We can should drop not reported during one hot encoding (this will be good I think)"
   ]
  },
  {
   "cell_type": "markdown",
   "id": "a1674e75-698b-45a8-8866-cc5c780e777b",
   "metadata": {},
   "source": [
    "## purchase_channel "
   ]
  },
  {
   "cell_type": "code",
   "execution_count": 99,
   "id": "364f3da2-677f-4b5a-8d43-6cbf7e15087d",
   "metadata": {},
   "outputs": [
    {
     "data": {
      "text/plain": [
       "<Axes: >"
      ]
     },
     "execution_count": 99,
     "metadata": {},
     "output_type": "execute_result"
    },
    {
     "data": {
      "image/png": "[encoded data removed]",
      "text/plain": [
       "<Figure size 640x480 with 1 Axes>"
      ]
     },
     "metadata": {},
     "output_type": "display_data"
    }
   ],
   "source": [
    "survey_df_3.purchase_channel.hist()"
   ]
  },
  {
   "cell_type": "code",
   "execution_count": 100,
   "id": "161f3ac1-2977-4450-910d-f0498b45cae4",
   "metadata": {},
   "outputs": [
    {
     "data": {
      "text/plain": [
       "purchase_channel\n",
       "Online          16562\n",
       "Retail Store    13419\n",
       "Name: count, dtype: int64"
      ]
     },
     "execution_count": 100,
     "metadata": {},
     "output_type": "execute_result"
    }
   ],
   "source": [
    "survey_df_3.purchase_channel.value_counts()"
   ]
  },
  {
   "cell_type": "markdown",
   "id": "1eb4d012-a1cc-4208-987a-4659a653872d",
   "metadata": {},
   "source": [
    "There are only 10 missing value we can replace it with just Online\n",
    "Because that will not affect much to the model"
   ]
  },
  {
   "cell_type": "code",
   "execution_count": 101,
   "id": "dc86c062-b555-4b37-8c39-d140271da105",
   "metadata": {},
   "outputs": [],
   "source": [
    "purchase_channel_mode=survey_df_3.purchase_channel.mode()[0]\n",
    "survey_df_3.purchase_channel=survey_df_3.purchase_channel.fillna(purchase_channel_mode)\n"
   ]
  },
  {
   "cell_type": "code",
   "execution_count": 102,
   "id": "a368d116-9d1e-4591-b21e-fc2c29253884",
   "metadata": {},
   "outputs": [
    {
     "data": {
      "text/plain": [
       "'Online'"
      ]
     },
     "execution_count": 102,
     "metadata": {},
     "output_type": "execute_result"
    }
   ],
   "source": [
    "purchase_channel_mode"
   ]
  },
  {
   "cell_type": "code",
   "execution_count": 103,
   "id": "6187148c-1e48-42ba-84b8-b45f2d7d2192",
   "metadata": {},
   "outputs": [
    {
     "data": {
      "text/plain": [
       "respondent_id                     0\n",
       "age                               0\n",
       "gender                            0\n",
       "zone                              0\n",
       "occupation                        0\n",
       "income_levels                     0\n",
       "consume_frequency(weekly)         8\n",
       "current_brand                     0\n",
       "preferable_consumption_size       0\n",
       "awareness_of_other_brands         0\n",
       "reasons_for_choosing_brands       0\n",
       "flavor_preference                 0\n",
       "purchase_channel                  0\n",
       "packaging_preference              0\n",
       "health_concerns                   0\n",
       "typical_consumption_situations    0\n",
       "price_range                       0\n",
       "dtype: int64"
      ]
     },
     "execution_count": 103,
     "metadata": {},
     "output_type": "execute_result"
    }
   ],
   "source": [
    "survey_df_3.isnull().sum()"
   ]
  },
  {
   "cell_type": "markdown",
   "id": "bd46f196-b74e-4391-a624-279d336fbecc",
   "metadata": {},
   "source": [
    "## consume_frequency(weekly)"
   ]
  },
  {
   "cell_type": "code",
   "execution_count": 104,
   "id": "469d396a-f037-4d2d-8546-e5b2966097df",
   "metadata": {},
   "outputs": [
    {
     "data": {
      "text/plain": [
       "consume_frequency(weekly)\n",
       "3-4 times    11786\n",
       "5-7 times     9774\n",
       "0-2 times     8423\n",
       "Name: count, dtype: int64"
      ]
     },
     "execution_count": 104,
     "metadata": {},
     "output_type": "execute_result"
    }
   ],
   "source": [
    "survey_df_3['consume_frequency(weekly)'].value_counts()"
   ]
  },
  {
   "cell_type": "markdown",
   "id": "2b28ac8a-77f1-4f48-b18a-09e78fbd6553",
   "metadata": {},
   "source": [
    "We can replace 8 missing values with the mode easily"
   ]
  },
  {
   "cell_type": "code",
   "execution_count": 105,
   "id": "99ca9129-86ec-46af-8a6c-e4cdc980cd9c",
   "metadata": {},
   "outputs": [],
   "source": [
    "consume_frequency_mode=survey_df_3['consume_frequency(weekly)'].mode()[0]\n",
    "survey_df_3['consume_frequency(weekly)']=survey_df_3['consume_frequency(weekly)'].fillna(consume_frequency_mode)\n"
   ]
  },
  {
   "cell_type": "code",
   "execution_count": 106,
   "id": "a11bcfd2-aac3-4edf-b804-8a55a5692b57",
   "metadata": {},
   "outputs": [
    {
     "data": {
      "text/plain": [
       "respondent_id                     0\n",
       "age                               0\n",
       "gender                            0\n",
       "zone                              0\n",
       "occupation                        0\n",
       "income_levels                     0\n",
       "consume_frequency(weekly)         0\n",
       "current_brand                     0\n",
       "preferable_consumption_size       0\n",
       "awareness_of_other_brands         0\n",
       "reasons_for_choosing_brands       0\n",
       "flavor_preference                 0\n",
       "purchase_channel                  0\n",
       "packaging_preference              0\n",
       "health_concerns                   0\n",
       "typical_consumption_situations    0\n",
       "price_range                       0\n",
       "dtype: int64"
      ]
     },
     "execution_count": 106,
     "metadata": {},
     "output_type": "execute_result"
    }
   ],
   "source": [
    "survey_df_3.isnull().sum()"
   ]
  },
  {
   "cell_type": "markdown",
   "id": "50eae932-d00a-4ae6-830d-ece50f341920",
   "metadata": {},
   "source": [
    "How many null values are present in the consume_frequency(weekly) column? \n",
    "\n",
    "What is the mode value used to fill these null values?\n",
    "\n",
    "# Ans-3:8,3-4 times"
   ]
  },
  {
   "cell_type": "markdown",
   "id": "b5678026-7f07-4dd7-9f85-140f8708ba33",
   "metadata": {},
   "source": [
    "# Task-4\n",
    "Correcting Spelling Mistakes in Categorical Data:\n",
    "\n",
    "•\tReview the entries in the 'zone' and 'current_brand' columns. Are there any inconsistencies in spelling or formatting? How could you identify and fix these issues to ensure uniform categories?\n"
   ]
  },
  {
   "cell_type": "markdown",
   "id": "24e9842a-e91b-44bd-a5c0-34d8a6ad764f",
   "metadata": {},
   "source": [
    "## Zone"
   ]
  },
  {
   "cell_type": "code",
   "execution_count": 107,
   "id": "03f84053-6a05-4640-9db2-24d00ec192bc",
   "metadata": {},
   "outputs": [
    {
     "data": {
      "text/plain": [
       "zone\n",
       "Metro         11906\n",
       "Urban         10686\n",
       "Semi-Urban     5274\n",
       "Rural          2116\n",
       "urbna             5\n",
       "Metor             4\n",
       "Name: count, dtype: int64"
      ]
     },
     "execution_count": 107,
     "metadata": {},
     "output_type": "execute_result"
    }
   ],
   "source": [
    "survey_df_3.zone.value_counts()"
   ]
  },
  {
   "cell_type": "markdown",
   "id": "29508c25-5cb3-4cf7-8c81-b73b3dd5c2f4",
   "metadata": {},
   "source": [
    "urbna->Urban , Metor->Metro"
   ]
  },
  {
   "cell_type": "code",
   "execution_count": 108,
   "id": "2e6ccc9e-751b-4cef-9915-5c58d1525d13",
   "metadata": {},
   "outputs": [],
   "source": [
    "survey_df_4=survey_df_3.copy()"
   ]
  },
  {
   "cell_type": "code",
   "execution_count": 109,
   "id": "38f62f38-5e0e-4dfc-a88c-b090cd77bcbd",
   "metadata": {},
   "outputs": [],
   "source": [
    "survey_df_4.zone=survey_df_4.zone.replace({'urbna':'Urban','Metor':'Metro'})"
   ]
  },
  {
   "cell_type": "code",
   "execution_count": 110,
   "id": "1312d53f-554f-4372-aa44-2dfe2d5344d8",
   "metadata": {},
   "outputs": [
    {
     "data": {
      "text/plain": [
       "zone\n",
       "Metro         11910\n",
       "Urban         10691\n",
       "Semi-Urban     5274\n",
       "Rural          2116\n",
       "Name: count, dtype: int64"
      ]
     },
     "execution_count": 110,
     "metadata": {},
     "output_type": "execute_result"
    }
   ],
   "source": [
    "survey_df_4.zone.value_counts()"
   ]
  },
  {
   "cell_type": "markdown",
   "id": "36524149-c66e-4e39-8440-f3235e287dc4",
   "metadata": {},
   "source": [
    "## current_brand"
   ]
  },
  {
   "cell_type": "code",
   "execution_count": 111,
   "id": "77a040f8-8e59-49c0-8604-d6e1b6467683",
   "metadata": {},
   "outputs": [
    {
     "data": {
      "text/plain": [
       "current_brand\n",
       "Established    15442\n",
       "Newcomer       14499\n",
       "newcomer          30\n",
       "Establishd        20\n",
       "Name: count, dtype: int64"
      ]
     },
     "execution_count": 111,
     "metadata": {},
     "output_type": "execute_result"
    }
   ],
   "source": [
    "survey_df_4.current_brand.value_counts()"
   ]
  },
  {
   "cell_type": "markdown",
   "id": "82943b66-92dd-49a0-94ea-0477e3f892ab",
   "metadata": {},
   "source": [
    "newcomer->Newcomer, Establishd->Established"
   ]
  },
  {
   "cell_type": "code",
   "execution_count": 112,
   "id": "c10229fb-2354-49c1-a705-688ce7552c8d",
   "metadata": {},
   "outputs": [],
   "source": [
    "survey_df_4.current_brand=survey_df_4.current_brand.replace({'newcomer':'Newcomer','Establishd':'Established'})\n"
   ]
  },
  {
   "cell_type": "code",
   "execution_count": 113,
   "id": "4d24516e-2dd3-429b-bbf4-196c1f7ea276",
   "metadata": {},
   "outputs": [
    {
     "data": {
      "text/plain": [
       "current_brand\n",
       "Established    15462\n",
       "Newcomer       14529\n",
       "Name: count, dtype: int64"
      ]
     },
     "execution_count": 113,
     "metadata": {},
     "output_type": "execute_result"
    }
   ],
   "source": [
    "survey_df_4.current_brand.value_counts()"
   ]
  },
  {
   "cell_type": "markdown",
   "id": "99cfc0e4-5361-46a0-b30d-5f969c2a5fd5",
   "metadata": {},
   "source": [
    "## Other columns check"
   ]
  },
  {
   "cell_type": "code",
   "execution_count": 114,
   "id": "66a9bff7-405a-4335-866e-10480831b635",
   "metadata": {},
   "outputs": [
    {
     "name": "stdout",
     "output_type": "stream",
     "text": [
      "respondent_id\n",
      "['R00001' 'R00002' 'R00003' ... 'R29998' 'R29999' 'R30000']\n",
      "\n",
      "age\n",
      "[30 46 41 33 23 22 45 31 27 49 44 19 24 32 56 54 37 63 52 40 35 21 34 26\n",
      " 18 20 25 39 53 28 59 36 50 29 43 42 38 70 51 68 48 62 60 65 47 67 64 55\n",
      " 66 57 61 69 58]\n",
      "\n",
      "gender\n",
      "['M' 'F']\n",
      "\n",
      "zone\n",
      "['Urban' 'Metro' 'Rural' 'Semi-Urban']\n",
      "\n",
      "occupation\n",
      "['Working Professional' 'Student' 'Entrepreneur' 'Retired']\n",
      "\n",
      "income_levels\n",
      "['<10L' '> 35L' '16L - 25L' 'Not Reported' '10L - 15L' '26L - 35L']\n",
      "\n",
      "consume_frequency(weekly)\n",
      "['3-4 times' '5-7 times' '0-2 times']\n",
      "\n",
      "current_brand\n",
      "['Newcomer' 'Established']\n",
      "\n",
      "preferable_consumption_size\n",
      "['Medium (500 ml)' 'Large (1 L)' 'Small (250 ml)']\n",
      "\n",
      "awareness_of_other_brands\n",
      "['0 to 1' '2 to 4' 'above 4']\n",
      "\n",
      "reasons_for_choosing_brands\n",
      "['Price' 'Quality' 'Availability' 'Brand Reputation']\n",
      "\n",
      "flavor_preference\n",
      "['Traditional' 'Exotic']\n",
      "\n",
      "purchase_channel\n",
      "['Online' 'Retail Store']\n",
      "\n",
      "packaging_preference\n",
      "['Simple' 'Premium' 'Eco-Friendly']\n",
      "\n",
      "health_concerns\n",
      "['Medium (Moderately health-conscious)' 'Low (Not very concerned)'\n",
      " 'High (Very health-conscious)']\n",
      "\n",
      "typical_consumption_situations\n",
      "['Active (eg. Sports, gym)' 'Social (eg. Parties)' 'Casual (eg. At home)']\n",
      "\n",
      "price_range\n",
      "['100-150' '200-250' '150-200' '50-100']\n",
      "\n"
     ]
    }
   ],
   "source": [
    "for col in survey_df_4.columns:\n",
    "    print(col)\n",
    "    print(survey_df_4[col].unique())\n",
    "    print()"
   ]
  },
  {
   "cell_type": "markdown",
   "id": "84a9b6bc-937c-466f-8058-c2470ec192e1",
   "metadata": {},
   "source": [
    "How many rows contain misspellings of the category 'Metro'?\n",
    "# Ans-4:4"
   ]
  },
  {
   "cell_type": "markdown",
   "id": "6ef3214d-b2b9-4c24-81a6-a13c3b0b53fe",
   "metadata": {},
   "source": [
    "# All set"
   ]
  },
  {
   "cell_type": "markdown",
   "id": "14ef85d6-7f93-473b-8170-5a06e29bd75e",
   "metadata": {},
   "source": [
    "# Saving Data"
   ]
  },
  {
   "cell_type": "code",
   "execution_count": 115,
   "id": "810d501c-35dd-4395-a5b8-e4b234d761bb",
   "metadata": {},
   "outputs": [],
   "source": [
    "survey_df_4.to_csv(\"cleaned_survey_data.csv\",index=False)"
   ]
  },
  {
   "cell_type": "code",
   "execution_count": null,
   "id": "5f72fad2-8175-4af3-b496-9248154a03de",
   "metadata": {},
   "outputs": [],
   "source": []
  }
 ],
 "metadata": {
  "kernelspec": {
   "display_name": "Python 3 (ipykernel)",
   "language": "python",
   "name": "python3"
  },
  "language_info": {
   "codemirror_mode": {
    "name": "ipython",
    "version": 3
   },
   "file_extension": ".py",
   "mimetype": "text/x-python",
   "name": "python",
   "nbconvert_exporter": "python",
   "pygments_lexer": "ipython3",
   "version": "3.11.8"
  },
  "widgets": {
   "application/vnd.jupyter.widget-state+json": {
    "state": {},
    "version_major": 2,
    "version_minor": 0
   }
  }
 },
 "nbformat": 4,
 "nbformat_minor": 5
}
