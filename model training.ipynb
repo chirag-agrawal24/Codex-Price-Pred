{
 "cells": [
  {
   "cell_type": "markdown",
   "id": "a944d094-2660-4c71-8057-1c645696cc2f",
   "metadata": {},
   "source": [
    "# Modules import"
   ]
  },
  {
   "cell_type": "code",
   "execution_count": null,
   "id": "3465bece-9be3-40fa-9700-b61d7ef1e248",
   "metadata": {},
   "outputs": [],
   "source": []
  },
  {
   "cell_type": "code",
   "execution_count": 1,
   "id": "d55d18a9-8d44-4416-b6e3-ae604e506a9b",
   "metadata": {},
   "outputs": [],
   "source": [
    "import pandas as pd\n",
    "from sklearn.model_selection import train_test_split, RandomizedSearchCV\n",
    "from sklearn.compose import ColumnTransformer\n",
    "from sklearn.preprocessing import OrdinalEncoder, OneHotEncoder,LabelEncoder,MinMaxScaler\n",
    "from sklearn.linear_model import LogisticRegression\n",
    "from sklearn.naive_bayes import GaussianNB\n",
    "from sklearn.svm import SVC\n",
    "from sklearn.ensemble import RandomForestClassifier\n",
    "import xgboost as xgb\n",
    "import lightgbm as lgb\n",
    "from sklearn.pipeline import Pipeline\n",
    "from sklearn.metrics import accuracy_score, classification_report\n",
    "import os\n",
    "import joblib\n",
    "import mlflow\n",
    "import json\n",
    "import dagshub\n"
   ]
  },
  {
   "cell_type": "code",
   "execution_count": null,
   "id": "8f0cebbd-3ddf-4426-978a-3a4bc0ece6f9",
   "metadata": {},
   "outputs": [],
   "source": [
    "\n",
    "\n",
    "\n",
    "\n"
   ]
  },
  {
   "cell_type": "code",
   "execution_count": 2,
   "id": "6a0104a5-ed25-429d-a214-b8465a6df495",
   "metadata": {},
   "outputs": [
    {
     "data": {
      "text/html": [
       "<div>\n",
       "<style scoped>\n",
       "    .dataframe tbody tr th:only-of-type {\n",
       "        vertical-align: middle;\n",
       "    }\n",
       "\n",
       "    .dataframe tbody tr th {\n",
       "        vertical-align: top;\n",
       "    }\n",
       "\n",
       "    .dataframe thead th {\n",
       "        text-align: right;\n",
       "    }\n",
       "</style>\n",
       "<table border=\"1\" class=\"dataframe\">\n",
       "  <thead>\n",
       "    <tr style=\"text-align: right;\">\n",
       "      <th></th>\n",
       "      <th>respondent_id</th>\n",
       "      <th>gender</th>\n",
       "      <th>zone</th>\n",
       "      <th>occupation</th>\n",
       "      <th>income_levels</th>\n",
       "      <th>consume_frequency(weekly)</th>\n",
       "      <th>current_brand</th>\n",
       "      <th>preferable_consumption_size</th>\n",
       "      <th>awareness_of_other_brands</th>\n",
       "      <th>reasons_for_choosing_brands</th>\n",
       "      <th>flavor_preference</th>\n",
       "      <th>purchase_channel</th>\n",
       "      <th>packaging_preference</th>\n",
       "      <th>health_concerns</th>\n",
       "      <th>typical_consumption_situations</th>\n",
       "      <th>price_range</th>\n",
       "      <th>age_group</th>\n",
       "      <th>cf_ab_score</th>\n",
       "      <th>zas_score</th>\n",
       "      <th>bsi</th>\n",
       "    </tr>\n",
       "  </thead>\n",
       "  <tbody>\n",
       "    <tr>\n",
       "      <th>0</th>\n",
       "      <td>R00001</td>\n",
       "      <td>M</td>\n",
       "      <td>Urban</td>\n",
       "      <td>Working Professional</td>\n",
       "      <td>&lt;10L</td>\n",
       "      <td>3-4 times</td>\n",
       "      <td>Newcomer</td>\n",
       "      <td>Medium (500 ml)</td>\n",
       "      <td>0 to 1</td>\n",
       "      <td>Price</td>\n",
       "      <td>Traditional</td>\n",
       "      <td>Online</td>\n",
       "      <td>Simple</td>\n",
       "      <td>Medium (Moderately health-conscious)</td>\n",
       "      <td>Active (eg. Sports, gym)</td>\n",
       "      <td>100-150</td>\n",
       "      <td>26-35</td>\n",
       "      <td>0.67</td>\n",
       "      <td>3</td>\n",
       "      <td>1</td>\n",
       "    </tr>\n",
       "    <tr>\n",
       "      <th>1</th>\n",
       "      <td>R00002</td>\n",
       "      <td>F</td>\n",
       "      <td>Metro</td>\n",
       "      <td>Working Professional</td>\n",
       "      <td>&gt; 35L</td>\n",
       "      <td>5-7 times</td>\n",
       "      <td>Established</td>\n",
       "      <td>Medium (500 ml)</td>\n",
       "      <td>2 to 4</td>\n",
       "      <td>Quality</td>\n",
       "      <td>Exotic</td>\n",
       "      <td>Retail Store</td>\n",
       "      <td>Premium</td>\n",
       "      <td>Medium (Moderately health-conscious)</td>\n",
       "      <td>Social (eg. Parties)</td>\n",
       "      <td>200-250</td>\n",
       "      <td>46-55</td>\n",
       "      <td>0.60</td>\n",
       "      <td>20</td>\n",
       "      <td>0</td>\n",
       "    </tr>\n",
       "    <tr>\n",
       "      <th>2</th>\n",
       "      <td>R00003</td>\n",
       "      <td>F</td>\n",
       "      <td>Rural</td>\n",
       "      <td>Working Professional</td>\n",
       "      <td>&gt; 35L</td>\n",
       "      <td>3-4 times</td>\n",
       "      <td>Newcomer</td>\n",
       "      <td>Medium (500 ml)</td>\n",
       "      <td>2 to 4</td>\n",
       "      <td>Availability</td>\n",
       "      <td>Traditional</td>\n",
       "      <td>Retail Store</td>\n",
       "      <td>Premium</td>\n",
       "      <td>Medium (Moderately health-conscious)</td>\n",
       "      <td>Active (eg. Sports, gym)</td>\n",
       "      <td>200-250</td>\n",
       "      <td>36-45</td>\n",
       "      <td>0.50</td>\n",
       "      <td>5</td>\n",
       "      <td>0</td>\n",
       "    </tr>\n",
       "    <tr>\n",
       "      <th>3</th>\n",
       "      <td>R00004</td>\n",
       "      <td>F</td>\n",
       "      <td>Urban</td>\n",
       "      <td>Working Professional</td>\n",
       "      <td>16L - 25L</td>\n",
       "      <td>5-7 times</td>\n",
       "      <td>Newcomer</td>\n",
       "      <td>Medium (500 ml)</td>\n",
       "      <td>0 to 1</td>\n",
       "      <td>Brand Reputation</td>\n",
       "      <td>Exotic</td>\n",
       "      <td>Online</td>\n",
       "      <td>Eco-Friendly</td>\n",
       "      <td>Low (Not very concerned)</td>\n",
       "      <td>Active (eg. Sports, gym)</td>\n",
       "      <td>150-200</td>\n",
       "      <td>26-35</td>\n",
       "      <td>0.75</td>\n",
       "      <td>9</td>\n",
       "      <td>0</td>\n",
       "    </tr>\n",
       "    <tr>\n",
       "      <th>4</th>\n",
       "      <td>R00005</td>\n",
       "      <td>M</td>\n",
       "      <td>Metro</td>\n",
       "      <td>Student</td>\n",
       "      <td>Not Reported</td>\n",
       "      <td>3-4 times</td>\n",
       "      <td>Established</td>\n",
       "      <td>Medium (500 ml)</td>\n",
       "      <td>0 to 1</td>\n",
       "      <td>Availability</td>\n",
       "      <td>Traditional</td>\n",
       "      <td>Online</td>\n",
       "      <td>Premium</td>\n",
       "      <td>Medium (Moderately health-conscious)</td>\n",
       "      <td>Active (eg. Sports, gym)</td>\n",
       "      <td>50-100</td>\n",
       "      <td>18-25</td>\n",
       "      <td>0.67</td>\n",
       "      <td>0</td>\n",
       "      <td>0</td>\n",
       "    </tr>\n",
       "  </tbody>\n",
       "</table>\n",
       "</div>"
      ],
      "text/plain": [
       "  respondent_id gender   zone            occupation income_levels  \\\n",
       "0        R00001      M  Urban  Working Professional          <10L   \n",
       "1        R00002      F  Metro  Working Professional         > 35L   \n",
       "2        R00003      F  Rural  Working Professional         > 35L   \n",
       "3        R00004      F  Urban  Working Professional     16L - 25L   \n",
       "4        R00005      M  Metro               Student  Not Reported   \n",
       "\n",
       "  consume_frequency(weekly) current_brand preferable_consumption_size  \\\n",
       "0                 3-4 times      Newcomer             Medium (500 ml)   \n",
       "1                 5-7 times   Established             Medium (500 ml)   \n",
       "2                 3-4 times      Newcomer             Medium (500 ml)   \n",
       "3                 5-7 times      Newcomer             Medium (500 ml)   \n",
       "4                 3-4 times   Established             Medium (500 ml)   \n",
       "\n",
       "  awareness_of_other_brands reasons_for_choosing_brands flavor_preference  \\\n",
       "0                    0 to 1                       Price       Traditional   \n",
       "1                    2 to 4                     Quality            Exotic   \n",
       "2                    2 to 4                Availability       Traditional   \n",
       "3                    0 to 1            Brand Reputation            Exotic   \n",
       "4                    0 to 1                Availability       Traditional   \n",
       "\n",
       "  purchase_channel packaging_preference                       health_concerns  \\\n",
       "0           Online               Simple  Medium (Moderately health-conscious)   \n",
       "1     Retail Store              Premium  Medium (Moderately health-conscious)   \n",
       "2     Retail Store              Premium  Medium (Moderately health-conscious)   \n",
       "3           Online         Eco-Friendly              Low (Not very concerned)   \n",
       "4           Online              Premium  Medium (Moderately health-conscious)   \n",
       "\n",
       "  typical_consumption_situations price_range age_group  cf_ab_score  \\\n",
       "0       Active (eg. Sports, gym)     100-150     26-35         0.67   \n",
       "1           Social (eg. Parties)     200-250     46-55         0.60   \n",
       "2       Active (eg. Sports, gym)     200-250     36-45         0.50   \n",
       "3       Active (eg. Sports, gym)     150-200     26-35         0.75   \n",
       "4       Active (eg. Sports, gym)      50-100     18-25         0.67   \n",
       "\n",
       "   zas_score  bsi  \n",
       "0          3    1  \n",
       "1         20    0  \n",
       "2          5    0  \n",
       "3          9    0  \n",
       "4          0    0  "
      ]
     },
     "execution_count": 2,
     "metadata": {},
     "output_type": "execute_result"
    }
   ],
   "source": [
    "survey_df=pd.read_csv('survey_data_feature_engineered.csv')\n",
    "survey_df.head()"
   ]
  },
  {
   "cell_type": "markdown",
   "id": "11ed2472-c649-4ae9-9287-731daad2291f",
   "metadata": {},
   "source": [
    "# Feature and Target variable"
   ]
  },
  {
   "cell_type": "code",
   "execution_count": 3,
   "id": "0c38ce3f-518b-45cf-9ad7-05afea783e22",
   "metadata": {},
   "outputs": [
    {
     "data": {
      "text/plain": [
       "(29956, 20)"
      ]
     },
     "execution_count": 3,
     "metadata": {},
     "output_type": "execute_result"
    }
   ],
   "source": [
    "survey_df.shape"
   ]
  },
  {
   "cell_type": "code",
   "execution_count": 4,
   "id": "a5b70995-45e0-44ae-86ed-0a26e665df66",
   "metadata": {},
   "outputs": [
    {
     "data": {
      "text/plain": [
       "(29956, 18)"
      ]
     },
     "execution_count": 4,
     "metadata": {},
     "output_type": "execute_result"
    }
   ],
   "source": [
    "X=survey_df.drop(['respondent_id','price_range'],axis='columns')\n",
    "y=survey_df['price_range']\n",
    "X.shape"
   ]
  },
  {
   "cell_type": "code",
   "execution_count": 5,
   "id": "70bde360-a98d-4d70-82ff-aa16661d5951",
   "metadata": {},
   "outputs": [
    {
     "data": {
      "text/html": [
       "<div>\n",
       "<style scoped>\n",
       "    .dataframe tbody tr th:only-of-type {\n",
       "        vertical-align: middle;\n",
       "    }\n",
       "\n",
       "    .dataframe tbody tr th {\n",
       "        vertical-align: top;\n",
       "    }\n",
       "\n",
       "    .dataframe thead th {\n",
       "        text-align: right;\n",
       "    }\n",
       "</style>\n",
       "<table border=\"1\" class=\"dataframe\">\n",
       "  <thead>\n",
       "    <tr style=\"text-align: right;\">\n",
       "      <th></th>\n",
       "      <th>gender</th>\n",
       "      <th>zone</th>\n",
       "      <th>occupation</th>\n",
       "      <th>income_levels</th>\n",
       "      <th>consume_frequency(weekly)</th>\n",
       "      <th>current_brand</th>\n",
       "      <th>preferable_consumption_size</th>\n",
       "      <th>awareness_of_other_brands</th>\n",
       "      <th>reasons_for_choosing_brands</th>\n",
       "      <th>flavor_preference</th>\n",
       "      <th>purchase_channel</th>\n",
       "      <th>packaging_preference</th>\n",
       "      <th>health_concerns</th>\n",
       "      <th>typical_consumption_situations</th>\n",
       "      <th>age_group</th>\n",
       "      <th>cf_ab_score</th>\n",
       "      <th>zas_score</th>\n",
       "      <th>bsi</th>\n",
       "    </tr>\n",
       "  </thead>\n",
       "  <tbody>\n",
       "    <tr>\n",
       "      <th>0</th>\n",
       "      <td>M</td>\n",
       "      <td>Urban</td>\n",
       "      <td>Working Professional</td>\n",
       "      <td>&lt;10L</td>\n",
       "      <td>3-4 times</td>\n",
       "      <td>Newcomer</td>\n",
       "      <td>Medium (500 ml)</td>\n",
       "      <td>0 to 1</td>\n",
       "      <td>Price</td>\n",
       "      <td>Traditional</td>\n",
       "      <td>Online</td>\n",
       "      <td>Simple</td>\n",
       "      <td>Medium (Moderately health-conscious)</td>\n",
       "      <td>Active (eg. Sports, gym)</td>\n",
       "      <td>26-35</td>\n",
       "      <td>0.67</td>\n",
       "      <td>3</td>\n",
       "      <td>1</td>\n",
       "    </tr>\n",
       "    <tr>\n",
       "      <th>1</th>\n",
       "      <td>F</td>\n",
       "      <td>Metro</td>\n",
       "      <td>Working Professional</td>\n",
       "      <td>&gt; 35L</td>\n",
       "      <td>5-7 times</td>\n",
       "      <td>Established</td>\n",
       "      <td>Medium (500 ml)</td>\n",
       "      <td>2 to 4</td>\n",
       "      <td>Quality</td>\n",
       "      <td>Exotic</td>\n",
       "      <td>Retail Store</td>\n",
       "      <td>Premium</td>\n",
       "      <td>Medium (Moderately health-conscious)</td>\n",
       "      <td>Social (eg. Parties)</td>\n",
       "      <td>46-55</td>\n",
       "      <td>0.60</td>\n",
       "      <td>20</td>\n",
       "      <td>0</td>\n",
       "    </tr>\n",
       "    <tr>\n",
       "      <th>2</th>\n",
       "      <td>F</td>\n",
       "      <td>Rural</td>\n",
       "      <td>Working Professional</td>\n",
       "      <td>&gt; 35L</td>\n",
       "      <td>3-4 times</td>\n",
       "      <td>Newcomer</td>\n",
       "      <td>Medium (500 ml)</td>\n",
       "      <td>2 to 4</td>\n",
       "      <td>Availability</td>\n",
       "      <td>Traditional</td>\n",
       "      <td>Retail Store</td>\n",
       "      <td>Premium</td>\n",
       "      <td>Medium (Moderately health-conscious)</td>\n",
       "      <td>Active (eg. Sports, gym)</td>\n",
       "      <td>36-45</td>\n",
       "      <td>0.50</td>\n",
       "      <td>5</td>\n",
       "      <td>0</td>\n",
       "    </tr>\n",
       "    <tr>\n",
       "      <th>3</th>\n",
       "      <td>F</td>\n",
       "      <td>Urban</td>\n",
       "      <td>Working Professional</td>\n",
       "      <td>16L - 25L</td>\n",
       "      <td>5-7 times</td>\n",
       "      <td>Newcomer</td>\n",
       "      <td>Medium (500 ml)</td>\n",
       "      <td>0 to 1</td>\n",
       "      <td>Brand Reputation</td>\n",
       "      <td>Exotic</td>\n",
       "      <td>Online</td>\n",
       "      <td>Eco-Friendly</td>\n",
       "      <td>Low (Not very concerned)</td>\n",
       "      <td>Active (eg. Sports, gym)</td>\n",
       "      <td>26-35</td>\n",
       "      <td>0.75</td>\n",
       "      <td>9</td>\n",
       "      <td>0</td>\n",
       "    </tr>\n",
       "    <tr>\n",
       "      <th>4</th>\n",
       "      <td>M</td>\n",
       "      <td>Metro</td>\n",
       "      <td>Student</td>\n",
       "      <td>Not Reported</td>\n",
       "      <td>3-4 times</td>\n",
       "      <td>Established</td>\n",
       "      <td>Medium (500 ml)</td>\n",
       "      <td>0 to 1</td>\n",
       "      <td>Availability</td>\n",
       "      <td>Traditional</td>\n",
       "      <td>Online</td>\n",
       "      <td>Premium</td>\n",
       "      <td>Medium (Moderately health-conscious)</td>\n",
       "      <td>Active (eg. Sports, gym)</td>\n",
       "      <td>18-25</td>\n",
       "      <td>0.67</td>\n",
       "      <td>0</td>\n",
       "      <td>0</td>\n",
       "    </tr>\n",
       "  </tbody>\n",
       "</table>\n",
       "</div>"
      ],
      "text/plain": [
       "  gender   zone            occupation income_levels consume_frequency(weekly)  \\\n",
       "0      M  Urban  Working Professional          <10L                 3-4 times   \n",
       "1      F  Metro  Working Professional         > 35L                 5-7 times   \n",
       "2      F  Rural  Working Professional         > 35L                 3-4 times   \n",
       "3      F  Urban  Working Professional     16L - 25L                 5-7 times   \n",
       "4      M  Metro               Student  Not Reported                 3-4 times   \n",
       "\n",
       "  current_brand preferable_consumption_size awareness_of_other_brands  \\\n",
       "0      Newcomer             Medium (500 ml)                    0 to 1   \n",
       "1   Established             Medium (500 ml)                    2 to 4   \n",
       "2      Newcomer             Medium (500 ml)                    2 to 4   \n",
       "3      Newcomer             Medium (500 ml)                    0 to 1   \n",
       "4   Established             Medium (500 ml)                    0 to 1   \n",
       "\n",
       "  reasons_for_choosing_brands flavor_preference purchase_channel  \\\n",
       "0                       Price       Traditional           Online   \n",
       "1                     Quality            Exotic     Retail Store   \n",
       "2                Availability       Traditional     Retail Store   \n",
       "3            Brand Reputation            Exotic           Online   \n",
       "4                Availability       Traditional           Online   \n",
       "\n",
       "  packaging_preference                       health_concerns  \\\n",
       "0               Simple  Medium (Moderately health-conscious)   \n",
       "1              Premium  Medium (Moderately health-conscious)   \n",
       "2              Premium  Medium (Moderately health-conscious)   \n",
       "3         Eco-Friendly              Low (Not very concerned)   \n",
       "4              Premium  Medium (Moderately health-conscious)   \n",
       "\n",
       "  typical_consumption_situations age_group  cf_ab_score  zas_score  bsi  \n",
       "0       Active (eg. Sports, gym)     26-35         0.67          3    1  \n",
       "1           Social (eg. Parties)     46-55         0.60         20    0  \n",
       "2       Active (eg. Sports, gym)     36-45         0.50          5    0  \n",
       "3       Active (eg. Sports, gym)     26-35         0.75          9    0  \n",
       "4       Active (eg. Sports, gym)     18-25         0.67          0    0  "
      ]
     },
     "execution_count": 5,
     "metadata": {},
     "output_type": "execute_result"
    }
   ],
   "source": [
    "X.head()"
   ]
  },
  {
   "cell_type": "code",
   "execution_count": 6,
   "id": "7b5b410a-c1d7-4979-8560-f2edca5c7200",
   "metadata": {},
   "outputs": [
    {
     "data": {
      "text/plain": [
       "0    100-150\n",
       "1    200-250\n",
       "2    200-250\n",
       "3    150-200\n",
       "4     50-100\n",
       "Name: price_range, dtype: object"
      ]
     },
     "execution_count": 6,
     "metadata": {},
     "output_type": "execute_result"
    }
   ],
   "source": [
    "y.head()"
   ]
  },
  {
   "cell_type": "markdown",
   "id": "77c2e86b-d273-434a-a675-82a5aa33a208",
   "metadata": {},
   "source": [
    "# Data Splitting"
   ]
  },
  {
   "cell_type": "code",
   "execution_count": 7,
   "id": "43f3256b-4a78-41c2-ae3a-a5e8c67221f4",
   "metadata": {},
   "outputs": [
    {
     "data": {
      "text/plain": [
       "(22467, 18)"
      ]
     },
     "execution_count": 7,
     "metadata": {},
     "output_type": "execute_result"
    }
   ],
   "source": [
    "X_train, X_test, y_train, y_test = train_test_split(\n",
    "     X, y, test_size=0.25, random_state=42)\n",
    "X_train.shape"
   ]
  },
  {
   "cell_type": "code",
   "execution_count": 8,
   "id": "cf96b22b-db2a-4e70-8054-6cf5b257c037",
   "metadata": {},
   "outputs": [
    {
     "data": {
      "text/plain": [
       "(7489, 18)"
      ]
     },
     "execution_count": 8,
     "metadata": {},
     "output_type": "execute_result"
    }
   ],
   "source": [
    "X_test.shape"
   ]
  },
  {
   "cell_type": "markdown",
   "id": "b977f776-f845-4a60-abf7-f32dcbf21809",
   "metadata": {},
   "source": [
    "# Feature Encoding"
   ]
  },
  {
   "cell_type": "code",
   "execution_count": 9,
   "id": "2aeb8584-ef01-4f0b-99ca-32bf8db9ced2",
   "metadata": {},
   "outputs": [
    {
     "data": {
      "text/plain": [
       "Index(['gender', 'zone', 'occupation', 'income_levels',\n",
       "       'consume_frequency(weekly)', 'current_brand',\n",
       "       'preferable_consumption_size', 'awareness_of_other_brands',\n",
       "       'reasons_for_choosing_brands', 'flavor_preference', 'purchase_channel',\n",
       "       'packaging_preference', 'health_concerns',\n",
       "       'typical_consumption_situations', 'age_group', 'cf_ab_score',\n",
       "       'zas_score', 'bsi'],\n",
       "      dtype='object')"
      ]
     },
     "execution_count": 9,
     "metadata": {},
     "output_type": "execute_result"
    }
   ],
   "source": [
    "X_test.columns"
   ]
  },
  {
   "cell_type": "code",
   "execution_count": 10,
   "id": "fbd50e2a-c9fe-4da2-8336-626f3ebd3232",
   "metadata": {},
   "outputs": [
    {
     "name": "stdout",
     "output_type": "stream",
     "text": [
      "Column:  gender\n",
      "['M' 'F']\n",
      "\n",
      "Column:  zone\n",
      "['Urban' 'Metro' 'Rural' 'Semi-Urban']\n",
      "\n",
      "Column:  occupation\n",
      "['Working Professional' 'Student' 'Entrepreneur' 'Retired']\n",
      "\n",
      "Column:  income_levels\n",
      "['<10L' '> 35L' '16L - 25L' 'Not Reported' '10L - 15L' '26L - 35L']\n",
      "\n",
      "Column:  consume_frequency(weekly)\n",
      "['3-4 times' '5-7 times' '0-2 times']\n",
      "\n",
      "Column:  current_brand\n",
      "['Newcomer' 'Established']\n",
      "\n",
      "Column:  preferable_consumption_size\n",
      "['Medium (500 ml)' 'Large (1 L)' 'Small (250 ml)']\n",
      "\n",
      "Column:  awareness_of_other_brands\n",
      "['0 to 1' '2 to 4' 'above 4']\n",
      "\n",
      "Column:  reasons_for_choosing_brands\n",
      "['Price' 'Quality' 'Availability' 'Brand Reputation']\n",
      "\n",
      "Column:  flavor_preference\n",
      "['Traditional' 'Exotic']\n",
      "\n",
      "Column:  purchase_channel\n",
      "['Online' 'Retail Store']\n",
      "\n",
      "Column:  packaging_preference\n",
      "['Simple' 'Premium' 'Eco-Friendly']\n",
      "\n",
      "Column:  health_concerns\n",
      "['Medium (Moderately health-conscious)' 'Low (Not very concerned)'\n",
      " 'High (Very health-conscious)']\n",
      "\n",
      "Column:  typical_consumption_situations\n",
      "['Active (eg. Sports, gym)' 'Social (eg. Parties)' 'Casual (eg. At home)']\n",
      "\n",
      "Column:  age_group\n",
      "['26-35' '46-55' '36-45' '18-25' '56-70']\n",
      "\n",
      "Column:  cf_ab_score\n",
      "[0.67 0.6  0.5  0.75 0.4  0.33 0.25]\n",
      "\n",
      "Column:  zas_score\n",
      "[ 3 20  5  9  0  6 12  2  4  8 15 16  1 10]\n",
      "\n",
      "Column:  bsi\n",
      "[1 0]\n",
      "\n"
     ]
    }
   ],
   "source": [
    "column_data = {}\n",
    "column_data[\"columns\"]= X.columns.tolist()\n",
    "\n",
    "for col in X.columns:\n",
    "    print(\"Column: \",col)\n",
    "    print(X[col].unique())\n",
    "    print()\n",
    "    column_data[col] = X[col].unique().tolist()\n",
    "\n",
    "with open(\"column_datas.json\",\"w\") as json_file:\n",
    "    json.dump(column_data, json_file, indent=4)\n",
    "    "
   ]
  },
  {
   "cell_type": "code",
   "execution_count": 11,
   "id": "61d5b47c-ce77-4deb-9716-8bdc3036cb34",
   "metadata": {},
   "outputs": [
    {
     "data": {
      "text/plain": [
       "array(['100-150', '200-250', '150-200', '50-100'], dtype=object)"
      ]
     },
     "execution_count": 11,
     "metadata": {},
     "output_type": "execute_result"
    }
   ],
   "source": [
    "y.unique()"
   ]
  },
  {
   "cell_type": "code",
   "execution_count": 12,
   "id": "7fe1276a-0aea-4a9d-b823-c7cfefb12fd2",
   "metadata": {},
   "outputs": [],
   "source": [
    "target_encoder = OrdinalEncoder(categories=[[ '50-100','100-150', '150-200','200-250']])\n",
    "y_train_encoded = target_encoder.fit_transform(y_train.values.reshape(-1, 1)).reshape(-1)\n",
    "y_test_encoded = target_encoder.transform(y_test.values.reshape(-1, 1)).reshape(-1)\n",
    "\n",
    "categorical_columns = X.select_dtypes(include=['object', 'category']).columns\n",
    "ordinal_features = ['age_group', 'income_levels', 'health_concerns',\n",
    "                    'consume_frequency(weekly)', 'preferable_consumption_size']\n",
    "onehot_features = [col for col in categorical_columns if col not in ordinal_features]\n",
    "\n",
    "\n",
    "age_group_order=['18-25','26-35','36-45' ,'46-55','56-70','70+']# added age group 70+\n",
    "income_levels_order=[ 'Not Reported','<10L' ,'10L - 15L', '16L - 25L', '26L - 35L' ,'> 35L']\n",
    "health_concerns_order=['Low (Not very concerned)','Medium (Moderately health-conscious)', \n",
    "                       'High (Very health-conscious)']\n",
    "consume_frequency_order=['0-2 times','3-4 times','5-7 times' ]\n",
    "consumption_size_order=['Small (250 ml)','Medium (500 ml)','Large (1 L)']\n",
    "\n",
    "\n",
    "preprocessor = ColumnTransformer(\n",
    "    transformers=[\n",
    "        ('ordinal', OrdinalEncoder(categories=[\n",
    "            age_group_order,\n",
    "            income_levels_order,\n",
    "            health_concerns_order,\n",
    "            consume_frequency_order,\n",
    "            consumption_size_order\n",
    "        ]), ordinal_features),\n",
    "        \n",
    "        ('onehot', OneHotEncoder(handle_unknown='ignore'), onehot_features)\n",
    "    ]\n",
    ")"
   ]
  },
  {
   "cell_type": "markdown",
   "id": "d4e568b5-4072-4f1a-a795-c73aeaf74233",
   "metadata": {},
   "source": [
    "# Model Training"
   ]
  },
  {
   "cell_type": "code",
   "execution_count": 13,
   "id": "8a2f94ba-5148-4142-9940-38ab8e5256a9",
   "metadata": {},
   "outputs": [],
   "source": [
    "model_params = {\n",
    "    'GaussianNaiveBayes': {\n",
    "        'model': GaussianNB(),\n",
    "        'params': {}\n",
    "    },\n",
    "    'LogisticRegression': {\n",
    "        'model': LogisticRegression(max_iter=100),\n",
    "        'params': {\n",
    "            'classifier__C': [0.1, 1, 10],\n",
    "            'classifier__solver': ['liblinear', 'saga']\n",
    "        }\n",
    "    },\n",
    "    'SVC': {\n",
    "        'model': SVC(random_state=42),\n",
    "        'params': {\n",
    "            'classifier__C': [0.1, 1, 10],\n",
    "            'classifier__kernel': ['linear', 'rbf']\n",
    "        }\n",
    "    },\n",
    "    'RandomForest': {\n",
    "        'model': RandomForestClassifier(random_state=42),\n",
    "        'params': {\n",
    "            'classifier__n_estimators': [50, 100, 200],\n",
    "            'classifier__max_depth': [None, 10, 20],\n",
    "        }\n",
    "    },\n",
    "    'XGBoost': {\n",
    "        'model': xgb.XGBClassifier(random_state=42),\n",
    "        'params': {\n",
    "            'classifier__n_estimators': [50, 100, 200],\n",
    "            'classifier__max_depth': [3, 6, 9],\n",
    "            'classifier__learning_rate': [0.01, 0.1, 0.3],\n",
    "            'classifier__subsample': [0.8, 1.0]\n",
    "        }\n",
    "    },\n",
    "    'LightGBM': {\n",
    "        'model': lgb.LGBMClassifier(random_state=42),\n",
    "        'params': {\n",
    "            'classifier__n_estimators': [50, 100, 200],\n",
    "            'classifier__max_depth': [3, 6, 9],\n",
    "            'classifier__learning_rate': [0.01, 0.1, 0.3],\n",
    "            'classifier__num_leaves': [31, 63]\n",
    "        }\n",
    "    }\n",
    "}\n"
   ]
  },
  {
   "cell_type": "code",
   "execution_count": 14,
   "id": "2038cfeb-0890-43f8-bde1-61019ff3e8d4",
   "metadata": {},
   "outputs": [],
   "source": [
    "model_results = []\n",
    "models={}\n",
    "os.makedirs('models', exist_ok=True)"
   ]
  },
  {
   "cell_type": "code",
   "execution_count": 15,
   "id": "e727f3fd-20f6-47ac-b512-558f47a78520",
   "metadata": {
    "scrolled": true
   },
   "outputs": [
    {
     "name": "stdout",
     "output_type": "stream",
     "text": [
      "Fitting 5 folds for each of 1 candidates, totalling 5 fits\n"
     ]
    },
    {
     "name": "stderr",
     "output_type": "stream",
     "text": [
      "C:\\Users\\2411c\\anaconda3\\Lib\\site-packages\\sklearn\\model_selection\\_search.py:305: UserWarning: The total space of parameters 1 is smaller than n_iter=10. Running 1 iterations. For exhaustive searches, use GridSearchCV.\n",
      "  warnings.warn(\n"
     ]
    },
    {
     "name": "stdout",
     "output_type": "stream",
     "text": [
      "Model: GaussianNaiveBayes, Best Score: 0.5598874419794189, Best Params: {}\n",
      "Model saved to models/GaussianNaiveBayes_best_model.joblib\n",
      "Fitting 5 folds for each of 6 candidates, totalling 30 fits\n"
     ]
    },
    {
     "name": "stderr",
     "output_type": "stream",
     "text": [
      "C:\\Users\\2411c\\anaconda3\\Lib\\site-packages\\sklearn\\model_selection\\_search.py:305: UserWarning: The total space of parameters 6 is smaller than n_iter=10. Running 6 iterations. For exhaustive searches, use GridSearchCV.\n",
      "  warnings.warn(\n",
      "C:\\Users\\2411c\\anaconda3\\Lib\\site-packages\\sklearn\\linear_model\\_sag.py:350: ConvergenceWarning: The max_iter was reached which means the coef_ did not converge\n",
      "  warnings.warn(\n",
      "C:\\Users\\2411c\\anaconda3\\Lib\\site-packages\\sklearn\\model_selection\\_search.py:305: UserWarning: The total space of parameters 6 is smaller than n_iter=10. Running 6 iterations. For exhaustive searches, use GridSearchCV.\n",
      "  warnings.warn(\n"
     ]
    },
    {
     "name": "stdout",
     "output_type": "stream",
     "text": [
      "Model: LogisticRegression, Best Score: 0.8455068166661069, Best Params: {'classifier__solver': 'saga', 'classifier__C': 10}\n",
      "Model saved to models/LogisticRegression_best_model.joblib\n",
      "Fitting 5 folds for each of 6 candidates, totalling 30 fits\n",
      "Model: SVC, Best Score: 0.8667381124235088, Best Params: {'classifier__kernel': 'rbf', 'classifier__C': 10}\n",
      "Model saved to models/SVC_best_model.joblib\n",
      "Fitting 5 folds for each of 9 candidates, totalling 45 fits\n"
     ]
    },
    {
     "name": "stderr",
     "output_type": "stream",
     "text": [
      "C:\\Users\\2411c\\anaconda3\\Lib\\site-packages\\sklearn\\model_selection\\_search.py:305: UserWarning: The total space of parameters 9 is smaller than n_iter=10. Running 9 iterations. For exhaustive searches, use GridSearchCV.\n",
      "  warnings.warn(\n"
     ]
    },
    {
     "name": "stdout",
     "output_type": "stream",
     "text": [
      "Model: RandomForest, Best Score: 0.8800023197832043, Best Params: {'classifier__n_estimators': 200, 'classifier__max_depth': None}\n",
      "Model saved to models/RandomForest_best_model.joblib\n",
      "Fitting 5 folds for each of 10 candidates, totalling 50 fits\n",
      "Model: XGBoost, Best Score: 0.9190367828271857, Best Params: {'classifier__subsample': 0.8, 'classifier__n_estimators': 100, 'classifier__max_depth': 6, 'classifier__learning_rate': 0.3}\n",
      "Model saved to models/XGBoost_best_model.joblib\n",
      "Fitting 5 folds for each of 10 candidates, totalling 50 fits\n",
      "[LightGBM] [Info] Auto-choosing col-wise multi-threading, the overhead of testing was 0.001019 seconds.\n",
      "You can set `force_col_wise=true` to remove the overhead.\n",
      "[LightGBM] [Info] Total Bins 78\n",
      "[LightGBM] [Info] Number of data points in the train set: 22467, number of used features: 34\n",
      "[LightGBM] [Info] Start training from score -2.100810\n",
      "[LightGBM] [Info] Start training from score -1.343386\n",
      "[LightGBM] [Info] Start training from score -1.228925\n",
      "[LightGBM] [Info] Start training from score -1.126779\n",
      "Model: LightGBM, Best Score: 0.9218410263069556, Best Params: {'classifier__num_leaves': 31, 'classifier__n_estimators': 100, 'classifier__max_depth': 6, 'classifier__learning_rate': 0.3}\n",
      "Model saved to models/LightGBM_best_model.joblib\n"
     ]
    }
   ],
   "source": [
    "\n",
    "\n",
    "\n",
    "# Iterate through models for hyperparameter tuning and training\n",
    "for model_name, config in model_params.items():\n",
    "    pipeline = Pipeline(steps=[\n",
    "        ('preprocessor', preprocessor),\n",
    "        ('scaler', MinMaxScaler()),\n",
    "        ('classifier', config['model'])\n",
    "    ])\n",
    "    \n",
    "    # Apply RandomizedSearchCV for hyperparameter tuning\n",
    "    search = RandomizedSearchCV(\n",
    "        pipeline, \n",
    "        param_distributions=config['params'], \n",
    "        n_iter=10, \n",
    "        scoring='accuracy', \n",
    "        cv=5, \n",
    "        random_state=42, \n",
    "        verbose=1,\n",
    "        n_jobs=-2\n",
    "    )\n",
    "    search.fit(X_train, y_train_encoded)\n",
    "\n",
    "    print(f\"Model: {model_name}, Best Score: {search.best_score_}, Best Params: {search.best_params_}\")\n",
    "    \n",
    "    # Test the best model on the test set\n",
    "    best_model = search.best_estimator_  # Get the best pipeline from the search\n",
    "    y_pred = best_model.predict(X_test)\n",
    "    test_accuracy = accuracy_score(y_test_encoded, y_pred)\n",
    "    \n",
    "    # Get detailed classification report\n",
    "    clf_report = classification_report(y_test_encoded, y_pred, output_dict=True)  # Store as dictionary\n",
    "    \n",
    "    # Store the results in the list\n",
    "    model_results.append({\n",
    "        'Model': model_name,\n",
    "        'Best Score (CV)': search.best_score_,\n",
    "        'Best Params': search.best_params_,\n",
    "        'Test Accuracy': test_accuracy,\n",
    "        'Classification Report': clf_report,\n",
    "    })\n",
    "    \n",
    "    \n",
    "\n",
    "    \n",
    "    model_filename = f'models/{model_name}_best_model.joblib'\n",
    "\n",
    "    \n",
    "    joblib.dump(best_model, model_filename)\n",
    "    print(f\"Model saved to {model_filename}\")\n"
   ]
  },
  {
   "cell_type": "markdown",
   "id": "8dc8b68c-ddc3-43d3-b277-c25e41f409da",
   "metadata": {},
   "source": [
    "## Save Target variable encoder\n"
   ]
  },
  {
   "cell_type": "code",
   "execution_count": 16,
   "id": "ca0a0820-db4b-421f-af7c-e6115d92a716",
   "metadata": {},
   "outputs": [
    {
     "name": "stdout",
     "output_type": "stream",
     "text": [
      "Encoder saved as models/target_encoder.joblib\n"
     ]
    }
   ],
   "source": [
    "encoder_filename = \"models/target_encoder.joblib\"\n",
    "joblib.dump(target_encoder, encoder_filename)\n",
    "print(f\"Encoder saved as {encoder_filename}\")"
   ]
  },
  {
   "cell_type": "markdown",
   "id": "cdbefbd3-3243-428e-9e0d-b33beb6987a6",
   "metadata": {},
   "source": [
    "# Model Comparison"
   ]
  },
  {
   "cell_type": "code",
   "execution_count": 17,
   "id": "c443526c-8f3e-4fe1-b28d-ac13a1c3c7be",
   "metadata": {},
   "outputs": [
    {
     "data": {
      "text/html": [
       "<div>\n",
       "<style scoped>\n",
       "    .dataframe tbody tr th:only-of-type {\n",
       "        vertical-align: middle;\n",
       "    }\n",
       "\n",
       "    .dataframe tbody tr th {\n",
       "        vertical-align: top;\n",
       "    }\n",
       "\n",
       "    .dataframe thead th {\n",
       "        text-align: right;\n",
       "    }\n",
       "</style>\n",
       "<table border=\"1\" class=\"dataframe\">\n",
       "  <thead>\n",
       "    <tr style=\"text-align: right;\">\n",
       "      <th></th>\n",
       "      <th>Model</th>\n",
       "      <th>Best Score (CV)</th>\n",
       "      <th>Best Params</th>\n",
       "      <th>Test Accuracy</th>\n",
       "      <th>Classification Report</th>\n",
       "    </tr>\n",
       "  </thead>\n",
       "  <tbody>\n",
       "    <tr>\n",
       "      <th>5</th>\n",
       "      <td>LightGBM</td>\n",
       "      <td>0.921841</td>\n",
       "      <td>{'classifier__num_leaves': 31, 'classifier__n_...</td>\n",
       "      <td>0.922553</td>\n",
       "      <td>{'0.0': {'precision': 0.9078091106290672, 'rec...</td>\n",
       "    </tr>\n",
       "    <tr>\n",
       "      <th>4</th>\n",
       "      <td>XGBoost</td>\n",
       "      <td>0.919037</td>\n",
       "      <td>{'classifier__subsample': 0.8, 'classifier__n_...</td>\n",
       "      <td>0.920016</td>\n",
       "      <td>{'0.0': {'precision': 0.9208472686733556, 'rec...</td>\n",
       "    </tr>\n",
       "    <tr>\n",
       "      <th>3</th>\n",
       "      <td>RandomForest</td>\n",
       "      <td>0.880002</td>\n",
       "      <td>{'classifier__n_estimators': 200, 'classifier_...</td>\n",
       "      <td>0.882227</td>\n",
       "      <td>{'0.0': {'precision': 0.9199057714958775, 'rec...</td>\n",
       "    </tr>\n",
       "    <tr>\n",
       "      <th>2</th>\n",
       "      <td>SVC</td>\n",
       "      <td>0.866738</td>\n",
       "      <td>{'classifier__kernel': 'rbf', 'classifier__C':...</td>\n",
       "      <td>0.872346</td>\n",
       "      <td>{'0.0': {'precision': 0.8890122086570478, 'rec...</td>\n",
       "    </tr>\n",
       "    <tr>\n",
       "      <th>1</th>\n",
       "      <td>LogisticRegression</td>\n",
       "      <td>0.845507</td>\n",
       "      <td>{'classifier__solver': 'saga', 'classifier__C'...</td>\n",
       "      <td>0.845240</td>\n",
       "      <td>{'0.0': {'precision': 0.8710059171597633, 'rec...</td>\n",
       "    </tr>\n",
       "    <tr>\n",
       "      <th>0</th>\n",
       "      <td>GaussianNaiveBayes</td>\n",
       "      <td>0.559887</td>\n",
       "      <td>{}</td>\n",
       "      <td>0.564428</td>\n",
       "      <td>{'0.0': {'precision': 0.39679633867276887, 're...</td>\n",
       "    </tr>\n",
       "  </tbody>\n",
       "</table>\n",
       "</div>"
      ],
      "text/plain": [
       "                Model  Best Score (CV)  \\\n",
       "5            LightGBM         0.921841   \n",
       "4             XGBoost         0.919037   \n",
       "3        RandomForest         0.880002   \n",
       "2                 SVC         0.866738   \n",
       "1  LogisticRegression         0.845507   \n",
       "0  GaussianNaiveBayes         0.559887   \n",
       "\n",
       "                                         Best Params  Test Accuracy  \\\n",
       "5  {'classifier__num_leaves': 31, 'classifier__n_...       0.922553   \n",
       "4  {'classifier__subsample': 0.8, 'classifier__n_...       0.920016   \n",
       "3  {'classifier__n_estimators': 200, 'classifier_...       0.882227   \n",
       "2  {'classifier__kernel': 'rbf', 'classifier__C':...       0.872346   \n",
       "1  {'classifier__solver': 'saga', 'classifier__C'...       0.845240   \n",
       "0                                                 {}       0.564428   \n",
       "\n",
       "                               Classification Report  \n",
       "5  {'0.0': {'precision': 0.9078091106290672, 'rec...  \n",
       "4  {'0.0': {'precision': 0.9208472686733556, 'rec...  \n",
       "3  {'0.0': {'precision': 0.9199057714958775, 'rec...  \n",
       "2  {'0.0': {'precision': 0.8890122086570478, 'rec...  \n",
       "1  {'0.0': {'precision': 0.8710059171597633, 'rec...  \n",
       "0  {'0.0': {'precision': 0.39679633867276887, 're...  "
      ]
     },
     "execution_count": 17,
     "metadata": {},
     "output_type": "execute_result"
    }
   ],
   "source": [
    "results_df = pd.DataFrame(model_results)\n",
    "results_df.sort_values('Test Accuracy',ascending=False)"
   ]
  },
  {
   "cell_type": "code",
   "execution_count": 18,
   "id": "c1298ccd-f9e8-4ba8-85b6-f2b358a9061e",
   "metadata": {},
   "outputs": [
    {
     "name": "stdout",
     "output_type": "stream",
     "text": [
      "\n",
      "Model: GaussianNaiveBayes\n",
      "  0.0: Precision=0.39679633867276887, Recall=0.956953642384106, F1-Score=0.5609835004852798\n",
      "  1.0: Precision=0.4501541623843782, Recall=0.22694300518134716, F1-Score=0.3017568033069239\n",
      "  2.0: Precision=0.6100254885301615, Recall=0.32298695456590193, F1-Score=0.4223529411764706\n",
      "  3.0: Precision=0.6987951807228916, Recall=0.9069958847736626, F1-Score=0.7893982808022922\n",
      "  macro avg: Precision=0.5389427925775501, Recall=0.6034698717262543, F1-Score=0.5186228814427416\n",
      "  weighted avg: Precision=0.5718325499263659, Recall=0.5644278274803044, F1-Score=0.5271424879699413\n",
      "\n",
      "Model: LogisticRegression\n",
      "  0.0: Precision=0.8710059171597633, Recall=0.8123620309050773, F1-Score=0.8406624785836665\n",
      "  1.0: Precision=0.8021201413427562, Recall=0.8233160621761658, F1-Score=0.8125799028381488\n",
      "  2.0: Precision=0.7995535714285714, Recall=0.805668016194332, F1-Score=0.8025991485547839\n",
      "  3.0: Precision=0.913743293437887, Recall=0.9111111111111111, F1-Score=0.91242530393571\n",
      "  macro avg: Precision=0.8466057308422446, Recall=0.8381143050966715, F1-Score=0.8420667084780773\n",
      "  weighted avg: Precision=0.8459109395217044, Recall=0.8452396848711443, F1-Score=0.845412046184469\n",
      "\n",
      "Model: SVC\n",
      "  0.0: Precision=0.8890122086570478, Recall=0.8841059602649006, F1-Score=0.8865522966242391\n",
      "  1.0: Precision=0.8581743166580712, Recall=0.8621761658031089, F1-Score=0.8601705867149134\n",
      "  2.0: Precision=0.8300448430493274, Recall=0.8326585695006747, F1-Score=0.8313496519200538\n",
      "  3.0: Precision=0.91649441918148, Recall=0.9123456790123456, F1-Score=0.9144153433697669\n",
      "  macro avg: Precision=0.8734314468864816, Recall=0.8728215936452575, F1-Score=0.8731219696572433\n",
      "  weighted avg: Precision=0.872478650941783, Recall=0.8723461076245159, F1-Score=0.8724082218865211\n",
      "\n",
      "Model: RandomForest\n",
      "  0.0: Precision=0.9199057714958775, Recall=0.8620309050772627, F1-Score=0.8900284900284899\n",
      "  1.0: Precision=0.8728139904610492, Recall=0.8533678756476684, F1-Score=0.8629813990044537\n",
      "  2.0: Precision=0.8269394714407502, Recall=0.8726945569050832, F1-Score=0.8492011381046181\n",
      "  3.0: Precision=0.930203572912339, Recall=0.9213991769547325, F1-Score=0.9257804424229894\n",
      "  macro avg: Precision=0.887465701577504, Recall=0.8773731286461868, F1-Score=0.8819978673901379\n",
      "  weighted avg: Precision=0.8835153902730486, Recall=0.8822272666577647, F1-Score=0.88253979398302\n",
      "\n",
      "Model: XGBoost\n",
      "  0.0: Precision=0.9208472686733556, Recall=0.9116997792494481, F1-Score=0.9162506932889628\n",
      "  1.0: Precision=0.9124278972207656, Recall=0.9015544041450777, F1-Score=0.9069585613760751\n",
      "  2.0: Precision=0.8901098901098901, Recall=0.9109311740890689, F1-Score=0.9004001778568254\n",
      "  3.0: Precision=0.953941908713693, Recall=0.9460905349794239, F1-Score=0.95\n",
      "  macro avg: Precision=0.9193317411794261, Recall=0.9175689731157547, F1-Score=0.9184023581304659\n",
      "  weighted avg: Precision=0.9202919736871007, Recall=0.920016023501135, F1-Score=0.9201018489720054\n",
      "\n",
      "Model: LightGBM\n",
      "  0.0: Precision=0.9078091106290672, Recall=0.9238410596026491, F1-Score=0.9157549234135668\n",
      "  1.0: Precision=0.9173290937996821, Recall=0.8968911917098445, F1-Score=0.9069950222687976\n",
      "  2.0: Precision=0.898094816127603, Recall=0.9118308591992802, F1-Score=0.9049107142857143\n",
      "  3.0: Precision=0.9550144449030128, Recall=0.9522633744855967, F1-Score=0.9536369256130228\n",
      "  macro avg: Precision=0.9195618663648414, Recall=0.9212066212493426, F1-Score=0.9203243963952754\n",
      "  weighted avg: Precision=0.9226959650993862, Recall=0.9225530778475097, F1-Score=0.9225702497914621\n"
     ]
    }
   ],
   "source": [
    "for index, row in results_df.iterrows():\n",
    "    print(f\"\\nModel: {row['Model']}\")\n",
    "    report = row['Classification Report']\n",
    "    for label, metrics in report.items():\n",
    "        if isinstance(metrics, dict):  # Only for labels, not support / accuracy\n",
    "            print(f\"  {label}: Precision={metrics['precision']}, Recall={metrics['recall']}, F1-Score={metrics['f1-score']}\")"
   ]
  },
  {
   "cell_type": "code",
   "execution_count": 19,
   "id": "2dbe9bcd-66b2-45c2-a268-e7e8c581b04b",
   "metadata": {},
   "outputs": [
    {
     "name": "stdout",
     "output_type": "stream",
     "text": [
      "\n",
      "Model: GaussianNaiveBayes\n",
      "\n",
      "Model: LogisticRegression\n",
      "  classifier__solver: saga\n",
      "  classifier__C: 10\n",
      "\n",
      "Model: SVC\n",
      "  classifier__kernel: rbf\n",
      "  classifier__C: 10\n",
      "\n",
      "Model: RandomForest\n",
      "  classifier__n_estimators: 200\n",
      "  classifier__max_depth: None\n",
      "\n",
      "Model: XGBoost\n",
      "  classifier__subsample: 0.8\n",
      "  classifier__n_estimators: 100\n",
      "  classifier__max_depth: 6\n",
      "  classifier__learning_rate: 0.3\n",
      "\n",
      "Model: LightGBM\n",
      "  classifier__num_leaves: 31\n",
      "  classifier__n_estimators: 100\n",
      "  classifier__max_depth: 6\n",
      "  classifier__learning_rate: 0.3\n"
     ]
    }
   ],
   "source": [
    "for index, row in results_df.iterrows():\n",
    "    print(f\"\\nModel: {row['Model']}\")\n",
    "    report = row['Best Params']\n",
    "    for param, value in report.items():\n",
    "        print(f\"  {param}: {value}\")"
   ]
  },
  {
   "cell_type": "markdown",
   "id": "2751b0f2-8d11-4da3-afa8-aceb7e511389",
   "metadata": {},
   "source": [
    "# ML FLOW"
   ]
  },
  {
   "cell_type": "code",
   "execution_count": 20,
   "id": "55de95a5-edb8-490e-b89e-e0bf88db514d",
   "metadata": {},
   "outputs": [
    {
     "data": {
      "text/html": [
       "<div>\n",
       "<style scoped>\n",
       "    .dataframe tbody tr th:only-of-type {\n",
       "        vertical-align: middle;\n",
       "    }\n",
       "\n",
       "    .dataframe tbody tr th {\n",
       "        vertical-align: top;\n",
       "    }\n",
       "\n",
       "    .dataframe thead th {\n",
       "        text-align: right;\n",
       "    }\n",
       "</style>\n",
       "<table border=\"1\" class=\"dataframe\">\n",
       "  <thead>\n",
       "    <tr style=\"text-align: right;\">\n",
       "      <th></th>\n",
       "      <th>Model</th>\n",
       "      <th>Best Score (CV)</th>\n",
       "      <th>Best Params</th>\n",
       "      <th>Test Accuracy</th>\n",
       "      <th>Classification Report</th>\n",
       "    </tr>\n",
       "  </thead>\n",
       "  <tbody>\n",
       "    <tr>\n",
       "      <th>0</th>\n",
       "      <td>GaussianNaiveBayes</td>\n",
       "      <td>0.559887</td>\n",
       "      <td>{}</td>\n",
       "      <td>0.564428</td>\n",
       "      <td>{'0.0': {'precision': 0.39679633867276887, 're...</td>\n",
       "    </tr>\n",
       "    <tr>\n",
       "      <th>1</th>\n",
       "      <td>LogisticRegression</td>\n",
       "      <td>0.845507</td>\n",
       "      <td>{'classifier__solver': 'saga', 'classifier__C'...</td>\n",
       "      <td>0.845240</td>\n",
       "      <td>{'0.0': {'precision': 0.8710059171597633, 'rec...</td>\n",
       "    </tr>\n",
       "    <tr>\n",
       "      <th>2</th>\n",
       "      <td>SVC</td>\n",
       "      <td>0.866738</td>\n",
       "      <td>{'classifier__kernel': 'rbf', 'classifier__C':...</td>\n",
       "      <td>0.872346</td>\n",
       "      <td>{'0.0': {'precision': 0.8890122086570478, 'rec...</td>\n",
       "    </tr>\n",
       "    <tr>\n",
       "      <th>3</th>\n",
       "      <td>RandomForest</td>\n",
       "      <td>0.880002</td>\n",
       "      <td>{'classifier__n_estimators': 200, 'classifier_...</td>\n",
       "      <td>0.882227</td>\n",
       "      <td>{'0.0': {'precision': 0.9199057714958775, 'rec...</td>\n",
       "    </tr>\n",
       "    <tr>\n",
       "      <th>4</th>\n",
       "      <td>XGBoost</td>\n",
       "      <td>0.919037</td>\n",
       "      <td>{'classifier__subsample': 0.8, 'classifier__n_...</td>\n",
       "      <td>0.920016</td>\n",
       "      <td>{'0.0': {'precision': 0.9208472686733556, 'rec...</td>\n",
       "    </tr>\n",
       "    <tr>\n",
       "      <th>5</th>\n",
       "      <td>LightGBM</td>\n",
       "      <td>0.921841</td>\n",
       "      <td>{'classifier__num_leaves': 31, 'classifier__n_...</td>\n",
       "      <td>0.922553</td>\n",
       "      <td>{'0.0': {'precision': 0.9078091106290672, 'rec...</td>\n",
       "    </tr>\n",
       "  </tbody>\n",
       "</table>\n",
       "</div>"
      ],
      "text/plain": [
       "                Model  Best Score (CV)  \\\n",
       "0  GaussianNaiveBayes         0.559887   \n",
       "1  LogisticRegression         0.845507   \n",
       "2                 SVC         0.866738   \n",
       "3        RandomForest         0.880002   \n",
       "4             XGBoost         0.919037   \n",
       "5            LightGBM         0.921841   \n",
       "\n",
       "                                         Best Params  Test Accuracy  \\\n",
       "0                                                 {}       0.564428   \n",
       "1  {'classifier__solver': 'saga', 'classifier__C'...       0.845240   \n",
       "2  {'classifier__kernel': 'rbf', 'classifier__C':...       0.872346   \n",
       "3  {'classifier__n_estimators': 200, 'classifier_...       0.882227   \n",
       "4  {'classifier__subsample': 0.8, 'classifier__n_...       0.920016   \n",
       "5  {'classifier__num_leaves': 31, 'classifier__n_...       0.922553   \n",
       "\n",
       "                               Classification Report  \n",
       "0  {'0.0': {'precision': 0.39679633867276887, 're...  \n",
       "1  {'0.0': {'precision': 0.8710059171597633, 'rec...  \n",
       "2  {'0.0': {'precision': 0.8890122086570478, 'rec...  \n",
       "3  {'0.0': {'precision': 0.9199057714958775, 'rec...  \n",
       "4  {'0.0': {'precision': 0.9208472686733556, 'rec...  \n",
       "5  {'0.0': {'precision': 0.9078091106290672, 'rec...  "
      ]
     },
     "execution_count": 20,
     "metadata": {},
     "output_type": "execute_result"
    }
   ],
   "source": [
    "results_df"
   ]
  },
  {
   "cell_type": "code",
   "execution_count": null,
   "id": "3813f762-c9b6-4ce5-ae3b-69b5170504f5",
   "metadata": {},
   "outputs": [],
   "source": []
  },
  {
   "cell_type": "code",
   "execution_count": 21,
   "id": "5adf8191-96cd-4ba7-a93c-cfa849296c0c",
   "metadata": {},
   "outputs": [
    {
     "data": {
      "text/plain": [
       "[{'Model': 'GaussianNaiveBayes',\n",
       "  'Best Score (CV)': 0.5598874419794189,\n",
       "  'Best Params': {},\n",
       "  'Test Accuracy': 0.5644278274803044,\n",
       "  'Classification Report': {'0.0': {'precision': 0.39679633867276887,\n",
       "    'recall': 0.956953642384106,\n",
       "    'f1-score': 0.5609835004852798,\n",
       "    'support': 906},\n",
       "   '1.0': {'precision': 0.4501541623843782,\n",
       "    'recall': 0.22694300518134716,\n",
       "    'f1-score': 0.3017568033069239,\n",
       "    'support': 1930},\n",
       "   '2.0': {'precision': 0.6100254885301615,\n",
       "    'recall': 0.32298695456590193,\n",
       "    'f1-score': 0.4223529411764706,\n",
       "    'support': 2223},\n",
       "   '3.0': {'precision': 0.6987951807228916,\n",
       "    'recall': 0.9069958847736626,\n",
       "    'f1-score': 0.7893982808022922,\n",
       "    'support': 2430},\n",
       "   'accuracy': 0.5644278274803044,\n",
       "   'macro avg': {'precision': 0.5389427925775501,\n",
       "    'recall': 0.6034698717262543,\n",
       "    'f1-score': 0.5186228814427416,\n",
       "    'support': 7489},\n",
       "   'weighted avg': {'precision': 0.5718325499263659,\n",
       "    'recall': 0.5644278274803044,\n",
       "    'f1-score': 0.5271424879699413,\n",
       "    'support': 7489}}},\n",
       " {'Model': 'LogisticRegression',\n",
       "  'Best Score (CV)': 0.8455068166661069,\n",
       "  'Best Params': {'classifier__solver': 'saga', 'classifier__C': 10},\n",
       "  'Test Accuracy': 0.8452396848711443,\n",
       "  'Classification Report': {'0.0': {'precision': 0.8710059171597633,\n",
       "    'recall': 0.8123620309050773,\n",
       "    'f1-score': 0.8406624785836665,\n",
       "    'support': 906},\n",
       "   '1.0': {'precision': 0.8021201413427562,\n",
       "    'recall': 0.8233160621761658,\n",
       "    'f1-score': 0.8125799028381488,\n",
       "    'support': 1930},\n",
       "   '2.0': {'precision': 0.7995535714285714,\n",
       "    'recall': 0.805668016194332,\n",
       "    'f1-score': 0.8025991485547839,\n",
       "    'support': 2223},\n",
       "   '3.0': {'precision': 0.913743293437887,\n",
       "    'recall': 0.9111111111111111,\n",
       "    'f1-score': 0.91242530393571,\n",
       "    'support': 2430},\n",
       "   'accuracy': 0.8452396848711443,\n",
       "   'macro avg': {'precision': 0.8466057308422446,\n",
       "    'recall': 0.8381143050966715,\n",
       "    'f1-score': 0.8420667084780773,\n",
       "    'support': 7489},\n",
       "   'weighted avg': {'precision': 0.8459109395217044,\n",
       "    'recall': 0.8452396848711443,\n",
       "    'f1-score': 0.845412046184469,\n",
       "    'support': 7489}}},\n",
       " {'Model': 'SVC',\n",
       "  'Best Score (CV)': 0.8667381124235088,\n",
       "  'Best Params': {'classifier__kernel': 'rbf', 'classifier__C': 10},\n",
       "  'Test Accuracy': 0.8723461076245159,\n",
       "  'Classification Report': {'0.0': {'precision': 0.8890122086570478,\n",
       "    'recall': 0.8841059602649006,\n",
       "    'f1-score': 0.8865522966242391,\n",
       "    'support': 906},\n",
       "   '1.0': {'precision': 0.8581743166580712,\n",
       "    'recall': 0.8621761658031089,\n",
       "    'f1-score': 0.8601705867149134,\n",
       "    'support': 1930},\n",
       "   '2.0': {'precision': 0.8300448430493274,\n",
       "    'recall': 0.8326585695006747,\n",
       "    'f1-score': 0.8313496519200538,\n",
       "    'support': 2223},\n",
       "   '3.0': {'precision': 0.91649441918148,\n",
       "    'recall': 0.9123456790123456,\n",
       "    'f1-score': 0.9144153433697669,\n",
       "    'support': 2430},\n",
       "   'accuracy': 0.8723461076245159,\n",
       "   'macro avg': {'precision': 0.8734314468864816,\n",
       "    'recall': 0.8728215936452575,\n",
       "    'f1-score': 0.8731219696572433,\n",
       "    'support': 7489},\n",
       "   'weighted avg': {'precision': 0.872478650941783,\n",
       "    'recall': 0.8723461076245159,\n",
       "    'f1-score': 0.8724082218865211,\n",
       "    'support': 7489}}},\n",
       " {'Model': 'RandomForest',\n",
       "  'Best Score (CV)': 0.8800023197832043,\n",
       "  'Best Params': {'classifier__n_estimators': 200,\n",
       "   'classifier__max_depth': None},\n",
       "  'Test Accuracy': 0.8822272666577647,\n",
       "  'Classification Report': {'0.0': {'precision': 0.9199057714958775,\n",
       "    'recall': 0.8620309050772627,\n",
       "    'f1-score': 0.8900284900284899,\n",
       "    'support': 906},\n",
       "   '1.0': {'precision': 0.8728139904610492,\n",
       "    'recall': 0.8533678756476684,\n",
       "    'f1-score': 0.8629813990044537,\n",
       "    'support': 1930},\n",
       "   '2.0': {'precision': 0.8269394714407502,\n",
       "    'recall': 0.8726945569050832,\n",
       "    'f1-score': 0.8492011381046181,\n",
       "    'support': 2223},\n",
       "   '3.0': {'precision': 0.930203572912339,\n",
       "    'recall': 0.9213991769547325,\n",
       "    'f1-score': 0.9257804424229894,\n",
       "    'support': 2430},\n",
       "   'accuracy': 0.8822272666577647,\n",
       "   'macro avg': {'precision': 0.887465701577504,\n",
       "    'recall': 0.8773731286461868,\n",
       "    'f1-score': 0.8819978673901379,\n",
       "    'support': 7489},\n",
       "   'weighted avg': {'precision': 0.8835153902730486,\n",
       "    'recall': 0.8822272666577647,\n",
       "    'f1-score': 0.88253979398302,\n",
       "    'support': 7489}}},\n",
       " {'Model': 'XGBoost',\n",
       "  'Best Score (CV)': 0.9190367828271857,\n",
       "  'Best Params': {'classifier__subsample': 0.8,\n",
       "   'classifier__n_estimators': 100,\n",
       "   'classifier__max_depth': 6,\n",
       "   'classifier__learning_rate': 0.3},\n",
       "  'Test Accuracy': 0.920016023501135,\n",
       "  'Classification Report': {'0.0': {'precision': 0.9208472686733556,\n",
       "    'recall': 0.9116997792494481,\n",
       "    'f1-score': 0.9162506932889628,\n",
       "    'support': 906},\n",
       "   '1.0': {'precision': 0.9124278972207656,\n",
       "    'recall': 0.9015544041450777,\n",
       "    'f1-score': 0.9069585613760751,\n",
       "    'support': 1930},\n",
       "   '2.0': {'precision': 0.8901098901098901,\n",
       "    'recall': 0.9109311740890689,\n",
       "    'f1-score': 0.9004001778568254,\n",
       "    'support': 2223},\n",
       "   '3.0': {'precision': 0.953941908713693,\n",
       "    'recall': 0.9460905349794239,\n",
       "    'f1-score': 0.95,\n",
       "    'support': 2430},\n",
       "   'accuracy': 0.920016023501135,\n",
       "   'macro avg': {'precision': 0.9193317411794261,\n",
       "    'recall': 0.9175689731157547,\n",
       "    'f1-score': 0.9184023581304659,\n",
       "    'support': 7489},\n",
       "   'weighted avg': {'precision': 0.9202919736871007,\n",
       "    'recall': 0.920016023501135,\n",
       "    'f1-score': 0.9201018489720054,\n",
       "    'support': 7489}}},\n",
       " {'Model': 'LightGBM',\n",
       "  'Best Score (CV)': 0.9218410263069556,\n",
       "  'Best Params': {'classifier__num_leaves': 31,\n",
       "   'classifier__n_estimators': 100,\n",
       "   'classifier__max_depth': 6,\n",
       "   'classifier__learning_rate': 0.3},\n",
       "  'Test Accuracy': 0.9225530778475097,\n",
       "  'Classification Report': {'0.0': {'precision': 0.9078091106290672,\n",
       "    'recall': 0.9238410596026491,\n",
       "    'f1-score': 0.9157549234135668,\n",
       "    'support': 906},\n",
       "   '1.0': {'precision': 0.9173290937996821,\n",
       "    'recall': 0.8968911917098445,\n",
       "    'f1-score': 0.9069950222687976,\n",
       "    'support': 1930},\n",
       "   '2.0': {'precision': 0.898094816127603,\n",
       "    'recall': 0.9118308591992802,\n",
       "    'f1-score': 0.9049107142857143,\n",
       "    'support': 2223},\n",
       "   '3.0': {'precision': 0.9550144449030128,\n",
       "    'recall': 0.9522633744855967,\n",
       "    'f1-score': 0.9536369256130228,\n",
       "    'support': 2430},\n",
       "   'accuracy': 0.9225530778475097,\n",
       "   'macro avg': {'precision': 0.9195618663648414,\n",
       "    'recall': 0.9212066212493426,\n",
       "    'f1-score': 0.9203243963952754,\n",
       "    'support': 7489},\n",
       "   'weighted avg': {'precision': 0.9226959650993862,\n",
       "    'recall': 0.9225530778475097,\n",
       "    'f1-score': 0.9225702497914621,\n",
       "    'support': 7489}}}]"
      ]
     },
     "execution_count": 21,
     "metadata": {},
     "output_type": "execute_result"
    }
   ],
   "source": [
    "model_results"
   ]
  },
  {
   "cell_type": "markdown",
   "id": "5e18657c-7791-400d-a462-95189b7fc35a",
   "metadata": {},
   "source": [
    "## DagsHub setup"
   ]
  },
  {
   "cell_type": "code",
   "execution_count": 22,
   "id": "b771e6d3-0836-4f9d-837b-183fdea665a4",
   "metadata": {},
   "outputs": [],
   "source": [
    "dagshub_url=\"https://dagshub.com/2411chirag/Codebasics-VI-Codex.mlflow\""
   ]
  },
  {
   "cell_type": "code",
   "execution_count": 23,
   "id": "41557726-e6bd-465c-8039-1fd7adbc2fca",
   "metadata": {},
   "outputs": [
    {
     "data": {
      "text/html": [
       "<pre style=\"white-space:pre;overflow-x:auto;line-height:normal;font-family:Menlo,'DejaVu Sans Mono',consolas,'Courier New',monospace\">Accessing as 2411chirag\n",
       "</pre>\n"
      ],
      "text/plain": [
       "Accessing as 2411chirag\n"
      ]
     },
     "metadata": {},
     "output_type": "display_data"
    },
    {
     "data": {
      "text/html": [
       "<pre style=\"white-space:pre;overflow-x:auto;line-height:normal;font-family:Menlo,'DejaVu Sans Mono',consolas,'Courier New',monospace\">Initialized MLflow to track repo <span style=\"color: #008000; text-decoration-color: #008000\">\"2411chirag/Codebasics-VI-Codex\"</span>\n",
       "</pre>\n"
      ],
      "text/plain": [
       "Initialized MLflow to track repo \u001b[32m\"2411chirag/Codebasics-VI-Codex\"\u001b[0m\n"
      ]
     },
     "metadata": {},
     "output_type": "display_data"
    },
    {
     "data": {
      "text/html": [
       "<pre style=\"white-space:pre;overflow-x:auto;line-height:normal;font-family:Menlo,'DejaVu Sans Mono',consolas,'Courier New',monospace\">Repository 2411chirag/Codebasics-VI-Codex initialized!\n",
       "</pre>\n"
      ],
      "text/plain": [
       "Repository 2411chirag/Codebasics-VI-Codex initialized!\n"
      ]
     },
     "metadata": {},
     "output_type": "display_data"
    }
   ],
   "source": [
    "dagshub.init(repo_owner=\"2411chirag\",repo_name=\"Codebasics-VI-Codex\",mlflow=True)\n",
    "os.environ[\"MLFLOW_TRACKING_USERNAME\"] = \"2411chirag\"\n",
    "os.environ[\"MLFLOW_TRACKING_PASSWORD\"] = \"a09b374619b99ba742834c5559a479df9477c28c\"\n",
    "os.environ[\"MLFLOW_TRACKING_URI\"] = dagshub_url\n",
    "\n"
   ]
  },
  {
   "cell_type": "code",
   "execution_count": 24,
   "id": "1f2119ff-d5d9-4350-8cad-24826d1d1e75",
   "metadata": {},
   "outputs": [],
   "source": [
    "experiment_name=\"Codex Energy Drink Survey\"\n",
    "# experiment_id = mlflow.create_experiment(experiment_name)"
   ]
  },
  {
   "cell_type": "code",
   "execution_count": 25,
   "id": "6f4fd31c-6426-498a-994a-c6a9bbeb9df5",
   "metadata": {},
   "outputs": [],
   "source": [
    "mlflow.set_tracking_uri(dagshub_url)"
   ]
  },
  {
   "cell_type": "code",
   "execution_count": 26,
   "id": "b1dac842-7f7e-4f2c-bdf5-23020c953b40",
   "metadata": {},
   "outputs": [
    {
     "data": {
      "text/plain": [
       "<Experiment: artifact_location='mlflow-artifacts:/d1aba6f6fae64f1b897ed8a9e82603ef', creation_time=1732126104695, experiment_id='0', last_update_time=1732126104695, lifecycle_stage='active', name='Codex Energy Drink Survey', tags={'mlflow.sharedViewState.d537fdc0c959fa49a2e0b67727b54010fcd4ffd194d195a2598ac3fdf5c6e596': '{\"searchFilter\":\"\",\"orderByKey\":\"attributes.start_time\",\"orderByAsc\":false,\"startTime\":\"ALL\",\"lifecycleFilter\":\"Active\",\"datasetsFilter\":[],\"modelVersionFilter\":\"All '\n",
       "                                                                                            'Runs\",\"selectedColumns\":[\"attributes.`Source`\",\"attributes.`Models`\",\"attributes.`Dataset`\"],\"runsExpanded\":{},\"runsPinned\":[],\"runsHidden\":[],\"runsHiddenMode\":\"FIRST_10_RUNS\",\"viewMaximized\":false,\"runListHidden\":false,\"isAccordionReordered\":false,\"groupBy\":\"\",\"groupsExpanded\":{}}'}>"
      ]
     },
     "execution_count": 26,
     "metadata": {},
     "output_type": "execute_result"
    }
   ],
   "source": [
    "mlflow.set_experiment(experiment_name)\n",
    "# mlflow.set_tracking_uri(\"http://127.0.0.1:5000/\")\n",
    "\n"
   ]
  },
  {
   "cell_type": "markdown",
   "id": "3b5c8662-6ca8-4bb0-87fb-9656d334cb56",
   "metadata": {},
   "source": [
    "## Upload"
   ]
  },
  {
   "cell_type": "code",
   "execution_count": 27,
   "id": "b05b2934-166c-49b2-9c82-730d134ed20a",
   "metadata": {},
   "outputs": [
    {
     "name": "stderr",
     "output_type": "stream",
     "text": [
      "2024/11/21 10:38:04 WARNING mlflow.models.model: Model logged without a signature and input example. Please set `input_example` parameter when logging the model to auto infer the model signature.\n"
     ]
    },
    {
     "name": "stdout",
     "output_type": "stream",
     "text": [
      "🏃 View run GaussianNaiveBayes at: https://dagshub.com/2411chirag/Codebasics-VI-Codex.mlflow/#/experiments/0/runs/c911bfcc542a4d57a13b5d606fc7fef0\n",
      "🧪 View experiment at: https://dagshub.com/2411chirag/Codebasics-VI-Codex.mlflow/#/experiments/0\n"
     ]
    },
    {
     "name": "stderr",
     "output_type": "stream",
     "text": [
      "2024/11/21 10:38:36 WARNING mlflow.models.model: Model logged without a signature and input example. Please set `input_example` parameter when logging the model to auto infer the model signature.\n"
     ]
    },
    {
     "name": "stdout",
     "output_type": "stream",
     "text": [
      "🏃 View run LogisticRegression at: https://dagshub.com/2411chirag/Codebasics-VI-Codex.mlflow/#/experiments/0/runs/9edb0815c48d400b86f2b55d45b82c39\n",
      "🧪 View experiment at: https://dagshub.com/2411chirag/Codebasics-VI-Codex.mlflow/#/experiments/0\n"
     ]
    },
    {
     "name": "stderr",
     "output_type": "stream",
     "text": [
      "2024/11/21 10:39:15 WARNING mlflow.models.model: Model logged without a signature and input example. Please set `input_example` parameter when logging the model to auto infer the model signature.\n"
     ]
    },
    {
     "name": "stdout",
     "output_type": "stream",
     "text": [
      "🏃 View run SVC at: https://dagshub.com/2411chirag/Codebasics-VI-Codex.mlflow/#/experiments/0/runs/61b48a3b7c7d4a5cafa973b4098a7a96\n",
      "🧪 View experiment at: https://dagshub.com/2411chirag/Codebasics-VI-Codex.mlflow/#/experiments/0\n"
     ]
    },
    {
     "name": "stderr",
     "output_type": "stream",
     "text": [
      "2024/11/21 10:39:55 WARNING mlflow.models.model: Model logged without a signature and input example. Please set `input_example` parameter when logging the model to auto infer the model signature.\n"
     ]
    },
    {
     "name": "stdout",
     "output_type": "stream",
     "text": [
      "🏃 View run RandomForest at: https://dagshub.com/2411chirag/Codebasics-VI-Codex.mlflow/#/experiments/0/runs/85775f469cb14fbab33f9336077378c5\n",
      "🧪 View experiment at: https://dagshub.com/2411chirag/Codebasics-VI-Codex.mlflow/#/experiments/0\n"
     ]
    },
    {
     "name": "stderr",
     "output_type": "stream",
     "text": [
      "2024/11/21 10:42:54 WARNING mlflow.models.model: Model logged without a signature and input example. Please set `input_example` parameter when logging the model to auto infer the model signature.\n"
     ]
    },
    {
     "name": "stdout",
     "output_type": "stream",
     "text": [
      "🏃 View run XGBoost at: https://dagshub.com/2411chirag/Codebasics-VI-Codex.mlflow/#/experiments/0/runs/b71ade1526be478bab59142b50ceeeab\n",
      "🧪 View experiment at: https://dagshub.com/2411chirag/Codebasics-VI-Codex.mlflow/#/experiments/0\n"
     ]
    },
    {
     "name": "stderr",
     "output_type": "stream",
     "text": [
      "2024/11/21 10:43:35 WARNING mlflow.models.model: Model logged without a signature and input example. Please set `input_example` parameter when logging the model to auto infer the model signature.\n"
     ]
    },
    {
     "name": "stdout",
     "output_type": "stream",
     "text": [
      "🏃 View run LightGBM at: https://dagshub.com/2411chirag/Codebasics-VI-Codex.mlflow/#/experiments/0/runs/afcccf56bf30442f882081c0ee293eae\n",
      "🧪 View experiment at: https://dagshub.com/2411chirag/Codebasics-VI-Codex.mlflow/#/experiments/0\n"
     ]
    }
   ],
   "source": [
    "for i,model_data in enumerate(model_results):\n",
    "    model_name=model_data['Model']\n",
    "    model_filename = f'models/{model_name}_best_model.pkl'\n",
    "    with mlflow.start_run(run_name=model_name):\n",
    "        # Check if model file exists\n",
    "        if os.path.exists(model_filename):\n",
    "            # Load the best trained model from Phase 1\n",
    "            best_model = joblib.load(model_filename)\n",
    "            \n",
    "            # Log the model and associated information to MLflow\n",
    "            mlflow.log_param(\"Model Name\", model_name)\n",
    "            \n",
    "            # Log hyperparameters (if available)\n",
    "            for param, value in model_data['Best Params'].items():\n",
    "                mlflow.log_param(param, value) \n",
    "            \n",
    "            # Log the model itself (depending on model type)\n",
    "            if model_name == 'XGBoost':\n",
    "                mlflow.sklearn.log_model(best_model, model_name)#save with sklearn for pipeline\n",
    "            elif model_name == 'LightGBM':\n",
    "                mlflow.lightgbm.log_model(best_model, model_name)\n",
    "            else:\n",
    "                mlflow.sklearn.log_model(best_model, model_name)\n",
    "        \n",
    "            \n",
    "            \n",
    "            report = model_data['Classification Report']\n",
    "            for label, metrics in report.items():\n",
    "                if label=='accuracy':\n",
    "                    continue\n",
    "                for metric,value in metrics.items():\n",
    "                    mlflow.log_metric(f\"{metric}_{label}\",value)\n",
    "                    \n",
    "            # Log test accuracy\n",
    "            mlflow.log_metric(\"test_accuracy\",model_data['Test Accuracy'])\n",
    "            \n",
    "            report_filename = f'models/{model_name}_classification_report.json'\n",
    "            with open(report_filename, 'w') as f:\n",
    "                json.dump(report, f)\n",
    "            \n",
    "            mlflow.log_artifact(report_filename)\n",
    "\n",
    "\n"
   ]
  },
  {
   "cell_type": "markdown",
   "id": "9087cf05-bb51-49d6-87f6-ed6c87ec4f32",
   "metadata": {},
   "source": [
    "### LOG ENCODER"
   ]
  },
  {
   "cell_type": "code",
   "execution_count": null,
   "id": "dc8ee4cf-c515-42e2-856c-6979a4c932b0",
   "metadata": {},
   "outputs": [],
   "source": []
  },
  {
   "cell_type": "code",
   "execution_count": 28,
   "id": "1d693754-2d26-4788-8bed-6664c0153927",
   "metadata": {},
   "outputs": [
    {
     "name": "stdout",
     "output_type": "stream",
     "text": [
      "🏃 View run Target Variable Encoder at: https://dagshub.com/2411chirag/Codebasics-VI-Codex.mlflow/#/experiments/0/runs/69d5119d5ca34b88a31976e63edb2332\n",
      "🧪 View experiment at: https://dagshub.com/2411chirag/Codebasics-VI-Codex.mlflow/#/experiments/0\n"
     ]
    }
   ],
   "source": [
    "with mlflow.start_run(run_name=\"Target Variable Encoder\"):\n",
    "    mlflow.log_param(\"Encoder Name\", \"Target Oridnal Encoder\")\n",
    "    encoder_filename = \"models/target_encoder.joblib\"\n",
    "    joblib.dump(target_encoder, encoder_filename)\n",
    "    mlflow.log_artifact(encoder_filename)"
   ]
  },
  {
   "cell_type": "markdown",
   "id": "d69057f2-37bb-4698-a2e1-55e2216f1fac",
   "metadata": {},
   "source": [
    "### REGISTER MODEL"
   ]
  },
  {
   "cell_type": "code",
   "execution_count": 30,
   "id": "a4026b6c-aefa-499a-95d6-ebbdebc469a7",
   "metadata": {},
   "outputs": [
    {
     "name": "stdin",
     "output_type": "stream",
     "text": [
      "Enter run id for XGBoost: b71ade1526be478bab59142b50ceeeab\n"
     ]
    },
    {
     "name": "stderr",
     "output_type": "stream",
     "text": [
      "Registered model 'XGBoost' already exists. Creating a new version of this model...\n",
      "2024/11/21 10:45:20 INFO mlflow.store.model_registry.abstract_store: Waiting up to 300 seconds for model version to finish creation. Model name: XGBoost, version 3\n",
      "Created version '3' of model 'XGBoost'.\n"
     ]
    }
   ],
   "source": [
    "model_name=\"XGBoost\"\n",
    "run_id=input(f\"Enter run id for {model_name}:\")\n",
    "model_uri=f\"runs:/{run_id}/{model_name}\"\n",
    "result= mlflow.register_model(model_uri,model_name,)"
   ]
  },
  {
   "cell_type": "code",
   "execution_count": 32,
   "id": "b312d409-1dcf-49a8-86ee-9836ecef4673",
   "metadata": {},
   "outputs": [
    {
     "data": {
      "text/plain": [
       "array([1.])"
      ]
     },
     "execution_count": 32,
     "metadata": {},
     "output_type": "execute_result"
    }
   ],
   "source": [
    "r=search.predict(X_test[0:1])\n",
    "r"
   ]
  },
  {
   "cell_type": "code",
   "execution_count": 36,
   "id": "03b50b87-4fe8-49c7-b7e5-50060384baed",
   "metadata": {},
   "outputs": [
    {
     "data": {
      "text/plain": [
       "'100-150'"
      ]
     },
     "execution_count": 36,
     "metadata": {},
     "output_type": "execute_result"
    }
   ],
   "source": [
    "target_encoder.inverse_transform(r.reshape(-1, 1))[0,0]\n"
   ]
  },
  {
   "cell_type": "code",
   "execution_count": null,
   "id": "de03f78a-c097-4f6b-9956-117d8602e1ff",
   "metadata": {},
   "outputs": [],
   "source": []
  },
  {
   "cell_type": "code",
   "execution_count": null,
   "id": "65f2dafe-0b70-4494-9396-dcdbec9b34d8",
   "metadata": {},
   "outputs": [],
   "source": []
  },
  {
   "cell_type": "code",
   "execution_count": null,
   "id": "60cf889d-d960-4b6a-b3b1-ffd0f6f765ee",
   "metadata": {},
   "outputs": [],
   "source": []
  },
  {
   "cell_type": "code",
   "execution_count": null,
   "id": "877cf215-5191-41a9-96d9-0f70821baefa",
   "metadata": {},
   "outputs": [],
   "source": []
  }
 ],
 "metadata": {
  "kernelspec": {
   "display_name": "Python 3 (ipykernel)",
   "language": "python",
   "name": "python3"
  },
  "language_info": {
   "codemirror_mode": {
    "name": "ipython",
    "version": 3
   },
   "file_extension": ".py",
   "mimetype": "text/x-python",
   "name": "python",
   "nbconvert_exporter": "python",
   "pygments_lexer": "ipython3",
   "version": "3.11.8"
  },
  "widgets": {
   "application/vnd.jupyter.widget-state+json": {
    "state": {},
    "version_major": 2,
    "version_minor": 0
   }
  }
 },
 "nbformat": 4,
 "nbformat_minor": 5
}
